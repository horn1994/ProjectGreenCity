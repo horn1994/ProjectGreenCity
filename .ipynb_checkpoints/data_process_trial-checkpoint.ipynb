{
 "cells": [
  {
   "cell_type": "markdown",
   "metadata": {},
   "source": [
    "sources:\n",
    "- https://jingwen-z.github.io/how-to-draw-a-variety-of-maps-with-folium-in-python/\n",
    "- https://medium.com/@shachiakyaagba_41915/integrating-folium-with-dash-5338604e7c56\n",
    "- https://medium.com/starschema-blog/create-a-map-of-budapest-districts-colored-by-income-using-folium-in-python-8ab0becf4491\n",
    "- https://towardsdatascience.com/retrieving-openstreetmap-data-in-python-1777a4be45bb\n",
    "- new: https://python-visualization.github.io/folium/quickstart.html\n",
    "- https://github.com/python-visualization/folium/issues/1239\n",
    "- https://community.plotly.com/t/display-different-data-plot-on-each-dropdown-option/10033\n",
    "- https://towardsdatascience.com/a-gentle-invitation-to-interactive-visualization-with-dash-a200427ccce9"
   ]
  },
  {
   "cell_type": "markdown",
   "metadata": {},
   "source": [
    "### Base Map"
   ]
  },
  {
   "cell_type": "code",
   "execution_count": 33,
   "metadata": {},
   "outputs": [],
   "source": [
    "import geopandas as gpd\n",
    "import pandas as pd\n",
    "import geojson\n",
    "import folium\n",
    "import numpy as np\n",
    "#import json\n",
    "#import shapely.geometry\n",
    "from simpledbf import Dbf5\n",
    "#from osgeo import ogr\n",
    "#import pyproj\n",
    "from shapely import wkt\n",
    "import plotly.express as px\n",
    "import plotly.graph_objects as go\n",
    "\n",
    "import dropbox\n",
    "import io"
   ]
  },
  {
   "cell_type": "code",
   "execution_count": 26,
   "metadata": {},
   "outputs": [],
   "source": [
    "token = \"tMyiUS6n5NAAAAAAAAAADHpC4VE5Etu-fs3_EBIQDOikg6c6KR8RwF_QTWgMsjYY\""
   ]
  },
  {
   "cell_type": "code",
   "execution_count": 27,
   "metadata": {},
   "outputs": [],
   "source": [
    "DBX = dropbox.Dropbox(token)"
   ]
  },
  {
   "cell_type": "code",
   "execution_count": 43,
   "metadata": {},
   "outputs": [],
   "source": [
    "_, res = DBX.files_download(\"/data/test2.csv\")\n",
    "\n",
    "with io.BytesIO(res.content) as stream:\n",
    "    df = pd.read_csv(stream, sep = \";\", header = 0, encoding = \"UTF-8\", index_col=0)"
   ]
  },
  {
   "cell_type": "code",
   "execution_count": 51,
   "metadata": {},
   "outputs": [],
   "source": [
    "import geopandas\n",
    "import pandas as pd\n",
    "import geojson\n",
    "import folium\n",
    "import shapely.geometry\n",
    "from simpledbf import Dbf5\n",
    "from shapely import wkt\n",
    "from datetime import date\n",
    "import dropbox\n",
    "import io\n",
    "\n",
    "#Zoldteruletek\n",
    "_, res = DBX.files_download(\"/polygons/zoldter_pg_region.csv\")\n",
    "\n",
    "with io.BytesIO(res.content) as stream:\n",
    "    gdf_zold = pd.read_csv(stream, index_col=0)\n",
    "    \n",
    "gdf_zold['geometry'] = gdf_zold['geometry'].apply(wkt.loads)\n",
    "gdf_zold = geopandas.GeoDataFrame(gdf_zold)\n",
    "gdf_zold.set_geometry('geometry', crs={'init': u'epsg:'+str(4326)}, inplace=True)\n",
    "\n",
    "#Erdok\n",
    "_, res = DBX.files_download(\"/polygons/erdo_pg_region.csv\")\n",
    "\n",
    "with io.BytesIO(res.content) as stream:\n",
    "    gdf_erdo = pd.read_csv(stream, index_col=0)\n",
    "\n",
    "gdf_erdo['geometry'] = gdf_erdo['geometry'].apply(wkt.loads)\n",
    "gdf_erdo = geopandas.GeoDataFrame(gdf_erdo)\n",
    "gdf_erdo.set_geometry('geometry', crs={'init': u'epsg:'+str(4326)}, inplace=True)\n",
    "\n",
    "#Erdok, adatokkal\n",
    "_, res = DBX.files_download(\"/polygons/erdo_pt_point.csv\")\n",
    "\n",
    "with io.BytesIO(res.content) as stream:\n",
    "    gdf_erdopoint = pd.read_csv(stream, index_col=0)\n",
    "    \n",
    "\n",
    "gdf_erdopoint['geometry'] = gdf_erdopoint['geometry'].apply(wkt.loads)\n",
    "gdf_erdopoint = geopandas.GeoDataFrame(gdf_erdopoint)\n",
    "gdf_erdopoint.set_geometry('geometry', crs={'init': u'epsg:'+str(4326)}, inplace=True)\n",
    "gdf_erdopoint.rename(columns = {'Kerület': 'kerulet'}, inplace = True)\n",
    "#gdf_erdopoint.drop('Unnamed: 0', axis = 1, inplace = True)\n",
    "#gdf_zold.drop('Unnamed: 0', axis = 1, inplace = True)\n",
    "gdf_all = gdf_zold.append(gdf_erdopoint)\n",
    "\n",
    "def create_data(gdf_all):\n",
    "    \n",
    "    start_date = date.fromisoformat(\"2020-06-05\")  # this is the day of the first data\n",
    "    today = date.today()\n",
    "    day_since_start = (today - start_date).days\n",
    "    \n",
    "    load = False\n",
    "    while load == False:\n",
    "        try:\n",
    "            _, res = DBX.files_download(\"/data/test{}.csv\".format(day_since_start))\n",
    "\n",
    "            with io.BytesIO(res.content) as stream:\n",
    "                new_data = pd.read_csv(stream, sep = \";\", header = 0, encoding = \"UTF-8\", index_col=0)\n",
    "            load = True\n",
    "        except:\n",
    "            day_since_start -= 1\n",
    "\n",
    "    gdf_combined = pd.merge(gdf_all, new_data, on=[\"Nev\", \"kerulet\"], how=\"outer\")\n",
    "    gdf_combined[\"mean_visitors\"] = gdf_combined.iloc[:, 11:].mean(axis=1).round(0)\n",
    "    # gdf_combined[\"mean_visitors\"] = gdf_combined[\"mean_visitors\"]\n",
    "    gdf_combined_filtered = (\n",
    "        gdf_combined.set_index(\"Nev\")\n",
    "        .iloc[:, 10:-1]\n",
    "        .rename(lambda x: str(x) + \" óra\", axis=1)\n",
    "        .T\n",
    "    )\n",
    "\n",
    "    return gdf_combined, gdf_combined_filtered\n",
    "\n",
    "\n",
    "gdf_combined, gdf_combined_filtered = create_data(gdf_all)\n",
    "\n",
    "\n",
    "def create_agg_data(gdf_all):\n",
    "    \n",
    "    start_date = date.fromisoformat(\"2020-06-05\")  # this is the day of the first data\n",
    "    today = date.today()\n",
    "    day_since_start = (today - start_date).days\n",
    "    \n",
    "    missing_file_count = 0\n",
    "    load = False\n",
    "    while load == False:\n",
    "        try:\n",
    "            _, res = DBX.files_download(\"/data/test{}.csv\".format(day_since_start))\n",
    "\n",
    "            with io.BytesIO(res.content) as stream:\n",
    "                new_data = pd.read_csv(stream, sep = \";\", header = 0, encoding = \"UTF-8\", index_col=0)\n",
    "                \n",
    "            load = True\n",
    "        except:\n",
    "            missing_file_count += 1\n",
    "            day_since_start -= 1\n",
    "            \n",
    "    gdf_aggregated = new_data.iloc[:, 4:]\n",
    "    for data in range(day_since_start-7, day_since_start): #1-6 ig megy, így a legújabb napnak nincs kétszeres súlya \n",
    "        try:\n",
    "            _, res = DBX.files_download(\"/data/test{}.csv\".format(data))\n",
    "\n",
    "            with io.BytesIO(res.content) as stream:\n",
    "                read_new = pd.read_csv(stream, sep = \";\", header = 0, encoding = \"UTF-8\", index_col=0)\n",
    "                \n",
    "            gdf_aggregated += round(read_new.iloc[:, 4:])\n",
    "        except:\n",
    "            pass\n",
    "\n",
    "    gdf_aggregated = round(gdf_aggregated / day_since_start)\n",
    "    gdf_aggregated = pd.concat(\n",
    "        [\n",
    "            new_data.iloc[:, :4].reset_index(drop=True),\n",
    "            gdf_aggregated.reset_index(drop=True),\n",
    "        ],\n",
    "        axis=1,\n",
    "    )\n",
    "    gdf_combined_aggregated = pd.merge(\n",
    "        gdf_all, gdf_aggregated, on=[\"Nev\", \"kerulet\"], how=\"outer\"\n",
    "    )\n",
    "    gdf_combined_aggregated[\"mean_visitors\"] = (\n",
    "        gdf_combined_aggregated.iloc[:, 11:].mean(axis=1).round(0)\n",
    "    )\n",
    "    gdf_combined_aggregated_filtered = (\n",
    "        gdf_combined_aggregated.set_index(\"Nev\")\n",
    "        .iloc[:, 10:-1]\n",
    "        .rename(lambda x: str(x) + \" óra\", axis=1)\n",
    "        .T\n",
    "    )\n",
    "    return gdf_aggregated, gdf_combined_aggregated, gdf_combined_aggregated_filtered\n",
    "\n",
    "\n",
    "gdf_aggregated,gdf_combined_aggregated, gdf_combined_aggregated_filtered = create_agg_data(gdf_all)\n",
    "\n",
    "def figure2():\n",
    "    start_date = date.fromisoformat(\"2020-06-05\")  # this is the day of the first data\n",
    "    today = date.today()\n",
    "    day_since_start = (today - start_date).days\n",
    "    avg_visitors = []\n",
    "    load = False\n",
    "    while load == False:\n",
    "        try:\n",
    "            _, res = DBX.files_download(\"/data/test{}.csv\".format(day_since_start))\n",
    "\n",
    "            with io.BytesIO(res.content) as stream:\n",
    "                mean_visitors = pd.read_csv(stream, sep = \";\", header = 0, encoding = \"UTF-8\", index_col=0)\n",
    "                \n",
    "            mean_visitors['{}. nap'.format(day_since_start)] = mean_visitors.iloc[:,4:].mean(axis=1).round(0)\n",
    "            mean_visitors = mean_visitors.set_index('Nev').iloc[:,-1:]\n",
    "            load = True\n",
    "        except:\n",
    "            day_since_start -= 1\n",
    "    for data in range(day_since_start-7, day_since_start): \n",
    "        try:\n",
    "            _, res = DBX.files_download(\"/data/test{}.csv\".format(data))\n",
    "\n",
    "            with io.BytesIO(res.content) as stream:\n",
    "                read_new = pd.read_csv(stream, sep = \";\", header = 0, encoding = \"UTF-8\", index_col=0)\n",
    "                \n",
    "            read_new['{}. nap'.format(data)] = read_new.iloc[:,4:].mean(axis=1).round(0)\n",
    "            read_new = read_new.set_index('Nev').iloc[:,-1:]\n",
    "            mean_visitors = mean_visitors.merge(read_new, right_index=True, left_index=True)\n",
    "            \n",
    "        except:\n",
    "            pass\n",
    "    mean_visitors = mean_visitors.T.sort_index()\n",
    "    return mean_visitors\n",
    "\n",
    "mean_visitors = figure2()"
   ]
  },
  {
   "cell_type": "code",
   "execution_count": 55,
   "metadata": {},
   "outputs": [],
   "source": []
  },
  {
   "cell_type": "code",
   "execution_count": 59,
   "metadata": {},
   "outputs": [
    {
     "data": {
      "text/html": [
       "<div>\n",
       "<style scoped>\n",
       "    .dataframe tbody tr th:only-of-type {\n",
       "        vertical-align: middle;\n",
       "    }\n",
       "\n",
       "    .dataframe tbody tr th {\n",
       "        vertical-align: top;\n",
       "    }\n",
       "\n",
       "    .dataframe thead th {\n",
       "        text-align: right;\n",
       "    }\n",
       "</style>\n",
       "<table border=\"1\" class=\"dataframe\">\n",
       "  <thead>\n",
       "    <tr style=\"text-align: right;\">\n",
       "      <th>Nev</th>\n",
       "      <th>Vérmezõ</th>\n",
       "      <th>Budavári kertek - Keleti kert - Ellyps sétány</th>\n",
       "      <th>Halászbástya, Szentháromság tér</th>\n",
       "      <th>Szarvas tér, Dózsa György tér</th>\n",
       "      <th>Palota úti park</th>\n",
       "      <th>Horváth kert</th>\n",
       "      <th>Európa liget</th>\n",
       "      <th>Lovas úti parkok</th>\n",
       "      <th>Döbrentei tér, Erzsébet királyné park</th>\n",
       "      <th>Ybl Miklós tér</th>\n",
       "      <th>...</th>\n",
       "      <th>János-hegy</th>\n",
       "      <th>Keresztúri erdõ</th>\n",
       "      <th>Soroksári parkerdõ</th>\n",
       "      <th>Mûszergyári parkerdõ</th>\n",
       "      <th>Zöldmál</th>\n",
       "      <th>Hermina úti erdõ</th>\n",
       "      <th>Merzse</th>\n",
       "      <th>Péter-hegy</th>\n",
       "      <th>Pálos kolostor játszótér</th>\n",
       "      <th>Mocsárosdûlõ</th>\n",
       "    </tr>\n",
       "  </thead>\n",
       "  <tbody>\n",
       "    <tr>\n",
       "      <th>2-3 óra</th>\n",
       "      <td>5605.0</td>\n",
       "      <td>4426.0</td>\n",
       "      <td>5979.0</td>\n",
       "      <td>4496.0</td>\n",
       "      <td>5086.0</td>\n",
       "      <td>4095.0</td>\n",
       "      <td>4363.0</td>\n",
       "      <td>3926.0</td>\n",
       "      <td>4022.0</td>\n",
       "      <td>4849.0</td>\n",
       "      <td>...</td>\n",
       "      <td>4086.0</td>\n",
       "      <td>5405.0</td>\n",
       "      <td>3730.0</td>\n",
       "      <td>5807.0</td>\n",
       "      <td>3383.0</td>\n",
       "      <td>4027.0</td>\n",
       "      <td>4460.0</td>\n",
       "      <td>3592.0</td>\n",
       "      <td>5505.0</td>\n",
       "      <td>3677.0</td>\n",
       "    </tr>\n",
       "    <tr>\n",
       "      <th>3-4 óra</th>\n",
       "      <td>5259.0</td>\n",
       "      <td>4281.0</td>\n",
       "      <td>4313.0</td>\n",
       "      <td>4258.0</td>\n",
       "      <td>1247.0</td>\n",
       "      <td>4994.0</td>\n",
       "      <td>3688.0</td>\n",
       "      <td>5453.0</td>\n",
       "      <td>2819.0</td>\n",
       "      <td>4476.0</td>\n",
       "      <td>...</td>\n",
       "      <td>4519.0</td>\n",
       "      <td>3785.0</td>\n",
       "      <td>3616.0</td>\n",
       "      <td>3501.0</td>\n",
       "      <td>3244.0</td>\n",
       "      <td>5257.0</td>\n",
       "      <td>4858.0</td>\n",
       "      <td>5825.0</td>\n",
       "      <td>4653.0</td>\n",
       "      <td>4049.0</td>\n",
       "    </tr>\n",
       "    <tr>\n",
       "      <th>4-5 óra</th>\n",
       "      <td>7435.0</td>\n",
       "      <td>6723.0</td>\n",
       "      <td>4855.0</td>\n",
       "      <td>4959.0</td>\n",
       "      <td>5614.0</td>\n",
       "      <td>5117.0</td>\n",
       "      <td>7184.0</td>\n",
       "      <td>3729.0</td>\n",
       "      <td>6296.0</td>\n",
       "      <td>5110.0</td>\n",
       "      <td>...</td>\n",
       "      <td>5466.0</td>\n",
       "      <td>2962.0</td>\n",
       "      <td>4189.0</td>\n",
       "      <td>4253.0</td>\n",
       "      <td>6897.0</td>\n",
       "      <td>5574.0</td>\n",
       "      <td>5226.0</td>\n",
       "      <td>5912.0</td>\n",
       "      <td>6830.0</td>\n",
       "      <td>6124.0</td>\n",
       "    </tr>\n",
       "    <tr>\n",
       "      <th>5-6 óra</th>\n",
       "      <td>3559.0</td>\n",
       "      <td>8019.0</td>\n",
       "      <td>5403.0</td>\n",
       "      <td>5827.0</td>\n",
       "      <td>4820.0</td>\n",
       "      <td>4062.0</td>\n",
       "      <td>3741.0</td>\n",
       "      <td>3819.0</td>\n",
       "      <td>2607.0</td>\n",
       "      <td>5315.0</td>\n",
       "      <td>...</td>\n",
       "      <td>4695.0</td>\n",
       "      <td>4833.0</td>\n",
       "      <td>8473.0</td>\n",
       "      <td>5535.0</td>\n",
       "      <td>3662.0</td>\n",
       "      <td>4838.0</td>\n",
       "      <td>6602.0</td>\n",
       "      <td>3122.0</td>\n",
       "      <td>4307.0</td>\n",
       "      <td>4474.0</td>\n",
       "    </tr>\n",
       "    <tr>\n",
       "      <th>6-7 óra</th>\n",
       "      <td>6090.0</td>\n",
       "      <td>3392.0</td>\n",
       "      <td>3118.0</td>\n",
       "      <td>5344.0</td>\n",
       "      <td>3483.0</td>\n",
       "      <td>4803.0</td>\n",
       "      <td>3467.0</td>\n",
       "      <td>3701.0</td>\n",
       "      <td>4520.0</td>\n",
       "      <td>4476.0</td>\n",
       "      <td>...</td>\n",
       "      <td>5419.0</td>\n",
       "      <td>4925.0</td>\n",
       "      <td>5156.0</td>\n",
       "      <td>4003.0</td>\n",
       "      <td>4800.0</td>\n",
       "      <td>3120.0</td>\n",
       "      <td>5616.0</td>\n",
       "      <td>6414.0</td>\n",
       "      <td>5468.0</td>\n",
       "      <td>6573.0</td>\n",
       "    </tr>\n",
       "    <tr>\n",
       "      <th>7-8 óra</th>\n",
       "      <td>4375.0</td>\n",
       "      <td>3026.0</td>\n",
       "      <td>2941.0</td>\n",
       "      <td>4884.0</td>\n",
       "      <td>5104.0</td>\n",
       "      <td>5926.0</td>\n",
       "      <td>5056.0</td>\n",
       "      <td>4209.0</td>\n",
       "      <td>2960.0</td>\n",
       "      <td>4311.0</td>\n",
       "      <td>...</td>\n",
       "      <td>4895.0</td>\n",
       "      <td>6133.0</td>\n",
       "      <td>5019.0</td>\n",
       "      <td>5583.0</td>\n",
       "      <td>3228.0</td>\n",
       "      <td>5910.0</td>\n",
       "      <td>6009.0</td>\n",
       "      <td>5312.0</td>\n",
       "      <td>4884.0</td>\n",
       "      <td>4412.0</td>\n",
       "    </tr>\n",
       "    <tr>\n",
       "      <th>8-9 óra</th>\n",
       "      <td>4939.0</td>\n",
       "      <td>6253.0</td>\n",
       "      <td>2137.0</td>\n",
       "      <td>4226.0</td>\n",
       "      <td>5493.0</td>\n",
       "      <td>6350.0</td>\n",
       "      <td>4935.0</td>\n",
       "      <td>2188.0</td>\n",
       "      <td>4586.0</td>\n",
       "      <td>4073.0</td>\n",
       "      <td>...</td>\n",
       "      <td>4433.0</td>\n",
       "      <td>6146.0</td>\n",
       "      <td>4577.0</td>\n",
       "      <td>5047.0</td>\n",
       "      <td>3357.0</td>\n",
       "      <td>3826.0</td>\n",
       "      <td>3525.0</td>\n",
       "      <td>5731.0</td>\n",
       "      <td>4855.0</td>\n",
       "      <td>4189.0</td>\n",
       "    </tr>\n",
       "    <tr>\n",
       "      <th>9-10 óra</th>\n",
       "      <td>3818.0</td>\n",
       "      <td>3420.0</td>\n",
       "      <td>3746.0</td>\n",
       "      <td>5155.0</td>\n",
       "      <td>4424.0</td>\n",
       "      <td>7301.0</td>\n",
       "      <td>5745.0</td>\n",
       "      <td>5183.0</td>\n",
       "      <td>5511.0</td>\n",
       "      <td>4893.0</td>\n",
       "      <td>...</td>\n",
       "      <td>3910.0</td>\n",
       "      <td>6880.0</td>\n",
       "      <td>3747.0</td>\n",
       "      <td>3035.0</td>\n",
       "      <td>3539.0</td>\n",
       "      <td>5018.0</td>\n",
       "      <td>3885.0</td>\n",
       "      <td>6746.0</td>\n",
       "      <td>4639.0</td>\n",
       "      <td>6593.0</td>\n",
       "    </tr>\n",
       "    <tr>\n",
       "      <th>10-11 óra</th>\n",
       "      <td>6983.0</td>\n",
       "      <td>7137.0</td>\n",
       "      <td>5643.0</td>\n",
       "      <td>4791.0</td>\n",
       "      <td>5575.0</td>\n",
       "      <td>6899.0</td>\n",
       "      <td>5953.0</td>\n",
       "      <td>3625.0</td>\n",
       "      <td>7381.0</td>\n",
       "      <td>4112.0</td>\n",
       "      <td>...</td>\n",
       "      <td>6511.0</td>\n",
       "      <td>4694.0</td>\n",
       "      <td>2976.0</td>\n",
       "      <td>3410.0</td>\n",
       "      <td>6863.0</td>\n",
       "      <td>7047.0</td>\n",
       "      <td>6178.0</td>\n",
       "      <td>6174.0</td>\n",
       "      <td>4533.0</td>\n",
       "      <td>3864.0</td>\n",
       "    </tr>\n",
       "    <tr>\n",
       "      <th>11-12 óra</th>\n",
       "      <td>4916.0</td>\n",
       "      <td>5478.0</td>\n",
       "      <td>5630.0</td>\n",
       "      <td>3547.0</td>\n",
       "      <td>3986.0</td>\n",
       "      <td>6819.0</td>\n",
       "      <td>6740.0</td>\n",
       "      <td>4063.0</td>\n",
       "      <td>3471.0</td>\n",
       "      <td>5262.0</td>\n",
       "      <td>...</td>\n",
       "      <td>6019.0</td>\n",
       "      <td>4817.0</td>\n",
       "      <td>6068.0</td>\n",
       "      <td>7488.0</td>\n",
       "      <td>3439.0</td>\n",
       "      <td>4972.0</td>\n",
       "      <td>3394.0</td>\n",
       "      <td>6180.0</td>\n",
       "      <td>7147.0</td>\n",
       "      <td>6458.0</td>\n",
       "    </tr>\n",
       "    <tr>\n",
       "      <th>12-13 óra</th>\n",
       "      <td>3971.0</td>\n",
       "      <td>6837.0</td>\n",
       "      <td>4286.0</td>\n",
       "      <td>4213.0</td>\n",
       "      <td>4239.0</td>\n",
       "      <td>3494.0</td>\n",
       "      <td>5094.0</td>\n",
       "      <td>4007.0</td>\n",
       "      <td>7543.0</td>\n",
       "      <td>3816.0</td>\n",
       "      <td>...</td>\n",
       "      <td>6570.0</td>\n",
       "      <td>2403.0</td>\n",
       "      <td>4629.0</td>\n",
       "      <td>6474.0</td>\n",
       "      <td>6330.0</td>\n",
       "      <td>4157.0</td>\n",
       "      <td>2637.0</td>\n",
       "      <td>2064.0</td>\n",
       "      <td>6507.0</td>\n",
       "      <td>3197.0</td>\n",
       "    </tr>\n",
       "    <tr>\n",
       "      <th>13-14 óra</th>\n",
       "      <td>6303.0</td>\n",
       "      <td>3429.0</td>\n",
       "      <td>4927.0</td>\n",
       "      <td>6575.0</td>\n",
       "      <td>5798.0</td>\n",
       "      <td>6709.0</td>\n",
       "      <td>5146.0</td>\n",
       "      <td>5004.0</td>\n",
       "      <td>4465.0</td>\n",
       "      <td>5614.0</td>\n",
       "      <td>...</td>\n",
       "      <td>2775.0</td>\n",
       "      <td>4803.0</td>\n",
       "      <td>3924.0</td>\n",
       "      <td>5637.0</td>\n",
       "      <td>3140.0</td>\n",
       "      <td>5658.0</td>\n",
       "      <td>4004.0</td>\n",
       "      <td>6391.0</td>\n",
       "      <td>4969.0</td>\n",
       "      <td>5643.0</td>\n",
       "    </tr>\n",
       "    <tr>\n",
       "      <th>14-15 óra</th>\n",
       "      <td>3139.0</td>\n",
       "      <td>4707.0</td>\n",
       "      <td>4441.0</td>\n",
       "      <td>4555.0</td>\n",
       "      <td>4170.0</td>\n",
       "      <td>4644.0</td>\n",
       "      <td>4837.0</td>\n",
       "      <td>4854.0</td>\n",
       "      <td>6455.0</td>\n",
       "      <td>4844.0</td>\n",
       "      <td>...</td>\n",
       "      <td>6117.0</td>\n",
       "      <td>5276.0</td>\n",
       "      <td>4498.0</td>\n",
       "      <td>6680.0</td>\n",
       "      <td>3686.0</td>\n",
       "      <td>4711.0</td>\n",
       "      <td>5584.0</td>\n",
       "      <td>3427.0</td>\n",
       "      <td>4113.0</td>\n",
       "      <td>4514.0</td>\n",
       "    </tr>\n",
       "    <tr>\n",
       "      <th>15-16 óra</th>\n",
       "      <td>2230.0</td>\n",
       "      <td>2775.0</td>\n",
       "      <td>3803.0</td>\n",
       "      <td>3785.0</td>\n",
       "      <td>6816.0</td>\n",
       "      <td>4830.0</td>\n",
       "      <td>3438.0</td>\n",
       "      <td>5668.0</td>\n",
       "      <td>2617.0</td>\n",
       "      <td>3945.0</td>\n",
       "      <td>...</td>\n",
       "      <td>8638.0</td>\n",
       "      <td>4745.0</td>\n",
       "      <td>5386.0</td>\n",
       "      <td>5081.0</td>\n",
       "      <td>5021.0</td>\n",
       "      <td>4627.0</td>\n",
       "      <td>4573.0</td>\n",
       "      <td>5360.0</td>\n",
       "      <td>2958.0</td>\n",
       "      <td>5529.0</td>\n",
       "    </tr>\n",
       "    <tr>\n",
       "      <th>16-17 óra</th>\n",
       "      <td>2654.0</td>\n",
       "      <td>4830.0</td>\n",
       "      <td>6952.0</td>\n",
       "      <td>4217.0</td>\n",
       "      <td>4739.0</td>\n",
       "      <td>6001.0</td>\n",
       "      <td>4191.0</td>\n",
       "      <td>6913.0</td>\n",
       "      <td>3558.0</td>\n",
       "      <td>5231.0</td>\n",
       "      <td>...</td>\n",
       "      <td>5264.0</td>\n",
       "      <td>3319.0</td>\n",
       "      <td>7913.0</td>\n",
       "      <td>6008.0</td>\n",
       "      <td>5751.0</td>\n",
       "      <td>4105.0</td>\n",
       "      <td>2224.0</td>\n",
       "      <td>5947.0</td>\n",
       "      <td>1856.0</td>\n",
       "      <td>3817.0</td>\n",
       "    </tr>\n",
       "    <tr>\n",
       "      <th>17-18 óra</th>\n",
       "      <td>4186.0</td>\n",
       "      <td>6452.0</td>\n",
       "      <td>7335.0</td>\n",
       "      <td>5164.0</td>\n",
       "      <td>5803.0</td>\n",
       "      <td>6359.0</td>\n",
       "      <td>3194.0</td>\n",
       "      <td>4293.0</td>\n",
       "      <td>4584.0</td>\n",
       "      <td>5031.0</td>\n",
       "      <td>...</td>\n",
       "      <td>3855.0</td>\n",
       "      <td>3406.0</td>\n",
       "      <td>5676.0</td>\n",
       "      <td>5620.0</td>\n",
       "      <td>5727.0</td>\n",
       "      <td>4010.0</td>\n",
       "      <td>6840.0</td>\n",
       "      <td>5818.0</td>\n",
       "      <td>4674.0</td>\n",
       "      <td>3407.0</td>\n",
       "    </tr>\n",
       "    <tr>\n",
       "      <th>18-19 óra</th>\n",
       "      <td>4202.0</td>\n",
       "      <td>4872.0</td>\n",
       "      <td>5700.0</td>\n",
       "      <td>5012.0</td>\n",
       "      <td>6613.0</td>\n",
       "      <td>4735.0</td>\n",
       "      <td>6169.0</td>\n",
       "      <td>5912.0</td>\n",
       "      <td>3438.0</td>\n",
       "      <td>3650.0</td>\n",
       "      <td>...</td>\n",
       "      <td>2973.0</td>\n",
       "      <td>5940.0</td>\n",
       "      <td>4934.0</td>\n",
       "      <td>5918.0</td>\n",
       "      <td>6217.0</td>\n",
       "      <td>6650.0</td>\n",
       "      <td>2448.0</td>\n",
       "      <td>5624.0</td>\n",
       "      <td>6567.0</td>\n",
       "      <td>4501.0</td>\n",
       "    </tr>\n",
       "    <tr>\n",
       "      <th>19-20 óra</th>\n",
       "      <td>3982.0</td>\n",
       "      <td>6059.0</td>\n",
       "      <td>4497.0</td>\n",
       "      <td>5073.0</td>\n",
       "      <td>6348.0</td>\n",
       "      <td>5290.0</td>\n",
       "      <td>5093.0</td>\n",
       "      <td>6762.0</td>\n",
       "      <td>5155.0</td>\n",
       "      <td>6080.0</td>\n",
       "      <td>...</td>\n",
       "      <td>6395.0</td>\n",
       "      <td>5661.0</td>\n",
       "      <td>3278.0</td>\n",
       "      <td>4525.0</td>\n",
       "      <td>3469.0</td>\n",
       "      <td>4249.0</td>\n",
       "      <td>4167.0</td>\n",
       "      <td>5381.0</td>\n",
       "      <td>4571.0</td>\n",
       "      <td>5383.0</td>\n",
       "    </tr>\n",
       "    <tr>\n",
       "      <th>20-21 óra</th>\n",
       "      <td>6011.0</td>\n",
       "      <td>5702.0</td>\n",
       "      <td>6078.0</td>\n",
       "      <td>5991.0</td>\n",
       "      <td>5274.0</td>\n",
       "      <td>8215.0</td>\n",
       "      <td>7671.0</td>\n",
       "      <td>4909.0</td>\n",
       "      <td>5392.0</td>\n",
       "      <td>5919.0</td>\n",
       "      <td>...</td>\n",
       "      <td>5224.0</td>\n",
       "      <td>5257.0</td>\n",
       "      <td>4476.0</td>\n",
       "      <td>7194.0</td>\n",
       "      <td>4507.0</td>\n",
       "      <td>2783.0</td>\n",
       "      <td>3472.0</td>\n",
       "      <td>4437.0</td>\n",
       "      <td>5630.0</td>\n",
       "      <td>4695.0</td>\n",
       "    </tr>\n",
       "    <tr>\n",
       "      <th>21-22 óra</th>\n",
       "      <td>6587.0</td>\n",
       "      <td>5531.0</td>\n",
       "      <td>3884.0</td>\n",
       "      <td>7339.0</td>\n",
       "      <td>5198.0</td>\n",
       "      <td>6057.0</td>\n",
       "      <td>4473.0</td>\n",
       "      <td>5924.0</td>\n",
       "      <td>4546.0</td>\n",
       "      <td>3616.0</td>\n",
       "      <td>...</td>\n",
       "      <td>4998.0</td>\n",
       "      <td>3477.0</td>\n",
       "      <td>7210.0</td>\n",
       "      <td>7064.0</td>\n",
       "      <td>7136.0</td>\n",
       "      <td>4996.0</td>\n",
       "      <td>5550.0</td>\n",
       "      <td>6675.0</td>\n",
       "      <td>5977.0</td>\n",
       "      <td>2433.0</td>\n",
       "    </tr>\n",
       "    <tr>\n",
       "      <th>22-23 óra</th>\n",
       "      <td>6557.0</td>\n",
       "      <td>5592.0</td>\n",
       "      <td>5744.0</td>\n",
       "      <td>3281.0</td>\n",
       "      <td>4027.0</td>\n",
       "      <td>6648.0</td>\n",
       "      <td>6395.0</td>\n",
       "      <td>5187.0</td>\n",
       "      <td>5151.0</td>\n",
       "      <td>7270.0</td>\n",
       "      <td>...</td>\n",
       "      <td>5081.0</td>\n",
       "      <td>3848.0</td>\n",
       "      <td>7251.0</td>\n",
       "      <td>5605.0</td>\n",
       "      <td>5738.0</td>\n",
       "      <td>3060.0</td>\n",
       "      <td>5848.0</td>\n",
       "      <td>6450.0</td>\n",
       "      <td>6992.0</td>\n",
       "      <td>3782.0</td>\n",
       "    </tr>\n",
       "    <tr>\n",
       "      <th>23-24 óra</th>\n",
       "      <td>3621.0</td>\n",
       "      <td>4962.0</td>\n",
       "      <td>5197.0</td>\n",
       "      <td>7469.0</td>\n",
       "      <td>7075.0</td>\n",
       "      <td>2614.0</td>\n",
       "      <td>2473.0</td>\n",
       "      <td>4487.0</td>\n",
       "      <td>2991.0</td>\n",
       "      <td>3918.0</td>\n",
       "      <td>...</td>\n",
       "      <td>6010.0</td>\n",
       "      <td>4668.0</td>\n",
       "      <td>4775.0</td>\n",
       "      <td>4476.0</td>\n",
       "      <td>4565.0</td>\n",
       "      <td>3682.0</td>\n",
       "      <td>7130.0</td>\n",
       "      <td>5887.0</td>\n",
       "      <td>3428.0</td>\n",
       "      <td>5292.0</td>\n",
       "    </tr>\n",
       "  </tbody>\n",
       "</table>\n",
       "<p>22 rows × 636 columns</p>\n",
       "</div>"
      ],
      "text/plain": [
       "Nev        Vérmezõ  Budavári kertek - Keleti kert - Ellyps sétány  \\\n",
       "2-3 óra     5605.0                                         4426.0   \n",
       "3-4 óra     5259.0                                         4281.0   \n",
       "4-5 óra     7435.0                                         6723.0   \n",
       "5-6 óra     3559.0                                         8019.0   \n",
       "6-7 óra     6090.0                                         3392.0   \n",
       "7-8 óra     4375.0                                         3026.0   \n",
       "8-9 óra     4939.0                                         6253.0   \n",
       "9-10 óra    3818.0                                         3420.0   \n",
       "10-11 óra   6983.0                                         7137.0   \n",
       "11-12 óra   4916.0                                         5478.0   \n",
       "12-13 óra   3971.0                                         6837.0   \n",
       "13-14 óra   6303.0                                         3429.0   \n",
       "14-15 óra   3139.0                                         4707.0   \n",
       "15-16 óra   2230.0                                         2775.0   \n",
       "16-17 óra   2654.0                                         4830.0   \n",
       "17-18 óra   4186.0                                         6452.0   \n",
       "18-19 óra   4202.0                                         4872.0   \n",
       "19-20 óra   3982.0                                         6059.0   \n",
       "20-21 óra   6011.0                                         5702.0   \n",
       "21-22 óra   6587.0                                         5531.0   \n",
       "22-23 óra   6557.0                                         5592.0   \n",
       "23-24 óra   3621.0                                         4962.0   \n",
       "\n",
       "Nev        Halászbástya, Szentháromság tér  Szarvas tér, Dózsa György tér  \\\n",
       "2-3 óra                             5979.0                         4496.0   \n",
       "3-4 óra                             4313.0                         4258.0   \n",
       "4-5 óra                             4855.0                         4959.0   \n",
       "5-6 óra                             5403.0                         5827.0   \n",
       "6-7 óra                             3118.0                         5344.0   \n",
       "7-8 óra                             2941.0                         4884.0   \n",
       "8-9 óra                             2137.0                         4226.0   \n",
       "9-10 óra                            3746.0                         5155.0   \n",
       "10-11 óra                           5643.0                         4791.0   \n",
       "11-12 óra                           5630.0                         3547.0   \n",
       "12-13 óra                           4286.0                         4213.0   \n",
       "13-14 óra                           4927.0                         6575.0   \n",
       "14-15 óra                           4441.0                         4555.0   \n",
       "15-16 óra                           3803.0                         3785.0   \n",
       "16-17 óra                           6952.0                         4217.0   \n",
       "17-18 óra                           7335.0                         5164.0   \n",
       "18-19 óra                           5700.0                         5012.0   \n",
       "19-20 óra                           4497.0                         5073.0   \n",
       "20-21 óra                           6078.0                         5991.0   \n",
       "21-22 óra                           3884.0                         7339.0   \n",
       "22-23 óra                           5744.0                         3281.0   \n",
       "23-24 óra                           5197.0                         7469.0   \n",
       "\n",
       "Nev        Palota úti park  Horváth kert  Európa liget  Lovas úti parkok  \\\n",
       "2-3 óra             5086.0        4095.0        4363.0            3926.0   \n",
       "3-4 óra             1247.0        4994.0        3688.0            5453.0   \n",
       "4-5 óra             5614.0        5117.0        7184.0            3729.0   \n",
       "5-6 óra             4820.0        4062.0        3741.0            3819.0   \n",
       "6-7 óra             3483.0        4803.0        3467.0            3701.0   \n",
       "7-8 óra             5104.0        5926.0        5056.0            4209.0   \n",
       "8-9 óra             5493.0        6350.0        4935.0            2188.0   \n",
       "9-10 óra            4424.0        7301.0        5745.0            5183.0   \n",
       "10-11 óra           5575.0        6899.0        5953.0            3625.0   \n",
       "11-12 óra           3986.0        6819.0        6740.0            4063.0   \n",
       "12-13 óra           4239.0        3494.0        5094.0            4007.0   \n",
       "13-14 óra           5798.0        6709.0        5146.0            5004.0   \n",
       "14-15 óra           4170.0        4644.0        4837.0            4854.0   \n",
       "15-16 óra           6816.0        4830.0        3438.0            5668.0   \n",
       "16-17 óra           4739.0        6001.0        4191.0            6913.0   \n",
       "17-18 óra           5803.0        6359.0        3194.0            4293.0   \n",
       "18-19 óra           6613.0        4735.0        6169.0            5912.0   \n",
       "19-20 óra           6348.0        5290.0        5093.0            6762.0   \n",
       "20-21 óra           5274.0        8215.0        7671.0            4909.0   \n",
       "21-22 óra           5198.0        6057.0        4473.0            5924.0   \n",
       "22-23 óra           4027.0        6648.0        6395.0            5187.0   \n",
       "23-24 óra           7075.0        2614.0        2473.0            4487.0   \n",
       "\n",
       "Nev        Döbrentei tér, Erzsébet királyné park  Ybl Miklós tér  ...  \\\n",
       "2-3 óra                                   4022.0          4849.0  ...   \n",
       "3-4 óra                                   2819.0          4476.0  ...   \n",
       "4-5 óra                                   6296.0          5110.0  ...   \n",
       "5-6 óra                                   2607.0          5315.0  ...   \n",
       "6-7 óra                                   4520.0          4476.0  ...   \n",
       "7-8 óra                                   2960.0          4311.0  ...   \n",
       "8-9 óra                                   4586.0          4073.0  ...   \n",
       "9-10 óra                                  5511.0          4893.0  ...   \n",
       "10-11 óra                                 7381.0          4112.0  ...   \n",
       "11-12 óra                                 3471.0          5262.0  ...   \n",
       "12-13 óra                                 7543.0          3816.0  ...   \n",
       "13-14 óra                                 4465.0          5614.0  ...   \n",
       "14-15 óra                                 6455.0          4844.0  ...   \n",
       "15-16 óra                                 2617.0          3945.0  ...   \n",
       "16-17 óra                                 3558.0          5231.0  ...   \n",
       "17-18 óra                                 4584.0          5031.0  ...   \n",
       "18-19 óra                                 3438.0          3650.0  ...   \n",
       "19-20 óra                                 5155.0          6080.0  ...   \n",
       "20-21 óra                                 5392.0          5919.0  ...   \n",
       "21-22 óra                                 4546.0          3616.0  ...   \n",
       "22-23 óra                                 5151.0          7270.0  ...   \n",
       "23-24 óra                                 2991.0          3918.0  ...   \n",
       "\n",
       "Nev        János-hegy  Keresztúri erdõ  Soroksári parkerdõ  \\\n",
       "2-3 óra        4086.0           5405.0              3730.0   \n",
       "3-4 óra        4519.0           3785.0              3616.0   \n",
       "4-5 óra        5466.0           2962.0              4189.0   \n",
       "5-6 óra        4695.0           4833.0              8473.0   \n",
       "6-7 óra        5419.0           4925.0              5156.0   \n",
       "7-8 óra        4895.0           6133.0              5019.0   \n",
       "8-9 óra        4433.0           6146.0              4577.0   \n",
       "9-10 óra       3910.0           6880.0              3747.0   \n",
       "10-11 óra      6511.0           4694.0              2976.0   \n",
       "11-12 óra      6019.0           4817.0              6068.0   \n",
       "12-13 óra      6570.0           2403.0              4629.0   \n",
       "13-14 óra      2775.0           4803.0              3924.0   \n",
       "14-15 óra      6117.0           5276.0              4498.0   \n",
       "15-16 óra      8638.0           4745.0              5386.0   \n",
       "16-17 óra      5264.0           3319.0              7913.0   \n",
       "17-18 óra      3855.0           3406.0              5676.0   \n",
       "18-19 óra      2973.0           5940.0              4934.0   \n",
       "19-20 óra      6395.0           5661.0              3278.0   \n",
       "20-21 óra      5224.0           5257.0              4476.0   \n",
       "21-22 óra      4998.0           3477.0              7210.0   \n",
       "22-23 óra      5081.0           3848.0              7251.0   \n",
       "23-24 óra      6010.0           4668.0              4775.0   \n",
       "\n",
       "Nev        Mûszergyári parkerdõ  Zöldmál  Hermina úti erdõ  Merzse  \\\n",
       "2-3 óra                  5807.0   3383.0            4027.0  4460.0   \n",
       "3-4 óra                  3501.0   3244.0            5257.0  4858.0   \n",
       "4-5 óra                  4253.0   6897.0            5574.0  5226.0   \n",
       "5-6 óra                  5535.0   3662.0            4838.0  6602.0   \n",
       "6-7 óra                  4003.0   4800.0            3120.0  5616.0   \n",
       "7-8 óra                  5583.0   3228.0            5910.0  6009.0   \n",
       "8-9 óra                  5047.0   3357.0            3826.0  3525.0   \n",
       "9-10 óra                 3035.0   3539.0            5018.0  3885.0   \n",
       "10-11 óra                3410.0   6863.0            7047.0  6178.0   \n",
       "11-12 óra                7488.0   3439.0            4972.0  3394.0   \n",
       "12-13 óra                6474.0   6330.0            4157.0  2637.0   \n",
       "13-14 óra                5637.0   3140.0            5658.0  4004.0   \n",
       "14-15 óra                6680.0   3686.0            4711.0  5584.0   \n",
       "15-16 óra                5081.0   5021.0            4627.0  4573.0   \n",
       "16-17 óra                6008.0   5751.0            4105.0  2224.0   \n",
       "17-18 óra                5620.0   5727.0            4010.0  6840.0   \n",
       "18-19 óra                5918.0   6217.0            6650.0  2448.0   \n",
       "19-20 óra                4525.0   3469.0            4249.0  4167.0   \n",
       "20-21 óra                7194.0   4507.0            2783.0  3472.0   \n",
       "21-22 óra                7064.0   7136.0            4996.0  5550.0   \n",
       "22-23 óra                5605.0   5738.0            3060.0  5848.0   \n",
       "23-24 óra                4476.0   4565.0            3682.0  7130.0   \n",
       "\n",
       "Nev        Péter-hegy  Pálos kolostor játszótér  Mocsárosdûlõ  \n",
       "2-3 óra        3592.0                    5505.0        3677.0  \n",
       "3-4 óra        5825.0                    4653.0        4049.0  \n",
       "4-5 óra        5912.0                    6830.0        6124.0  \n",
       "5-6 óra        3122.0                    4307.0        4474.0  \n",
       "6-7 óra        6414.0                    5468.0        6573.0  \n",
       "7-8 óra        5312.0                    4884.0        4412.0  \n",
       "8-9 óra        5731.0                    4855.0        4189.0  \n",
       "9-10 óra       6746.0                    4639.0        6593.0  \n",
       "10-11 óra      6174.0                    4533.0        3864.0  \n",
       "11-12 óra      6180.0                    7147.0        6458.0  \n",
       "12-13 óra      2064.0                    6507.0        3197.0  \n",
       "13-14 óra      6391.0                    4969.0        5643.0  \n",
       "14-15 óra      3427.0                    4113.0        4514.0  \n",
       "15-16 óra      5360.0                    2958.0        5529.0  \n",
       "16-17 óra      5947.0                    1856.0        3817.0  \n",
       "17-18 óra      5818.0                    4674.0        3407.0  \n",
       "18-19 óra      5624.0                    6567.0        4501.0  \n",
       "19-20 óra      5381.0                    4571.0        5383.0  \n",
       "20-21 óra      4437.0                    5630.0        4695.0  \n",
       "21-22 óra      6675.0                    5977.0        2433.0  \n",
       "22-23 óra      6450.0                    6992.0        3782.0  \n",
       "23-24 óra      5887.0                    3428.0        5292.0  \n",
       "\n",
       "[22 rows x 636 columns]"
      ]
     },
     "execution_count": 59,
     "metadata": {},
     "output_type": "execute_result"
    }
   ],
   "source": [
    "gdf_combined_aggregated_filtered"
   ]
  },
  {
   "cell_type": "code",
   "execution_count": null,
   "metadata": {},
   "outputs": [],
   "source": []
  },
  {
   "cell_type": "code",
   "execution_count": null,
   "metadata": {},
   "outputs": [],
   "source": []
  },
  {
   "cell_type": "code",
   "execution_count": null,
   "metadata": {},
   "outputs": [],
   "source": []
  },
  {
   "cell_type": "code",
   "execution_count": null,
   "metadata": {},
   "outputs": [],
   "source": []
  },
  {
   "cell_type": "code",
   "execution_count": null,
   "metadata": {},
   "outputs": [],
   "source": []
  },
  {
   "cell_type": "code",
   "execution_count": null,
   "metadata": {},
   "outputs": [],
   "source": []
  },
  {
   "cell_type": "code",
   "execution_count": null,
   "metadata": {},
   "outputs": [],
   "source": []
  },
  {
   "cell_type": "code",
   "execution_count": null,
   "metadata": {},
   "outputs": [],
   "source": []
  },
  {
   "cell_type": "code",
   "execution_count": null,
   "metadata": {},
   "outputs": [],
   "source": []
  },
  {
   "cell_type": "code",
   "execution_count": 3,
   "metadata": {},
   "outputs": [],
   "source": [
    "# #load files\n",
    "# gdf_zold = geopandas.read_file(\n",
    "#     r\"C:\\Users\\T440s\\Google Drive\\rajk\\rajkos_kurzusok\\prog2\\PROJECT\\data\\zoldter_pg_region.shp\"\n",
    "# )\n",
    "# gdf_erdo = geopandas.read_file(\n",
    "#     r\"C:\\Users\\T440s\\Google Drive\\rajk\\rajkos_kurzusok\\prog2\\PROJECT\\data\\erdo_pg_region.shp\"\n",
    "# )\n",
    "\n",
    "# gdf_erdopoint = geopandas.read_file(\n",
    "#     r\"C:\\Users\\T440s\\Google Drive\\rajk\\rajkos_kurzusok\\prog2\\PROJECT\\data\\erdo_pt_point.shp\"\n",
    "# )\n",
    "# # dbf = Dbf5(r\"C:\\Users\\T440s\\Google Drive\\rajk\\rajkos_kurzusok\\prog2\\PROJECT\\data\\erdo_pg_region.dbf\", codec='latin').to_dataframe()\n",
    "\n",
    "# # shx = geopandas.read_file(\n",
    "# #     r\"C:\\Users\\T440s\\Google Drive\\rajk\\rajkos_kurzusok\\prog2\\PROJECT\\data\\zoldter_pg_region.shx\"\n",
    "# # )\n",
    "\n",
    "# # setting coordinate reference systems\n",
    "# t_srs = 23700 #Hungarian specific epsg (HD72 / EOV)\n",
    "# gdf_zold.set_geometry('geometry', crs={'init': u'epsg:'+str(t_srs)}, inplace=True)\n",
    "# gdf_zold.to_crs(epsg=4326, inplace = True)  #proper Geodetic coordinate system for World\n",
    "# gdf_erdo.set_geometry('geometry', crs={'init': u'epsg:'+str(t_srs)}, inplace=True)\n",
    "# gdf_erdo.to_crs(epsg=4326, inplace = True)\n",
    "# gdf_erdopoint.set_geometry('geometry', crs={'init': u'epsg:'+str(t_srs)}, inplace=True)\n",
    "# gdf_erdopoint.to_crs(epsg=4326, inplace = True)"
   ]
  },
  {
   "cell_type": "code",
   "execution_count": 4,
   "metadata": {},
   "outputs": [],
   "source": [
    "# # Centroids for polygons (currently not in use)\n",
    "# gdf_zold['centroid_lon'] = gdf_zold['geometry'].centroid.x\n",
    "# gdf_zold['centroid_lat'] = gdf_zold['geometry'].centroid.y\n",
    "\n",
    "# gdf_erdo['centroid_lon'] = gdf_erdo['geometry'].centroid.x\n",
    "# gdf_erdo['centroid_lat'] = gdf_erdo['geometry'].centroid.y\n",
    "\n",
    "# gdf_erdopoint['centroid_lon'] = gdf_erdopoint['geometry'].centroid.x\n",
    "# gdf_erdopoint['centroid_lat'] = gdf_erdopoint['geometry'].centroid.y\n",
    "\n",
    "# gdf_zold['tipus'] = 'Zöldterület'\n",
    "# gdf_erdo['tipus'] = 'Erdő'\n",
    "# gdf_erdopoint['tipus'] = 'Erdő'"
   ]
  },
  {
   "cell_type": "code",
   "execution_count": 5,
   "metadata": {},
   "outputs": [],
   "source": [
    "# gdf_zold.to_csv(\"zoldter_pg_region.csv\")\n",
    "# gdf_erdo.to_csv(\"erdo_pg_region.csv\")\n",
    "# gdf_erdopoint.to_csv(\"erdo_pt_point.csv\")"
   ]
  },
  {
   "cell_type": "code",
   "execution_count": 3,
   "metadata": {},
   "outputs": [],
   "source": [
    "import geopandas as gpd\n",
    "import pandas as pd\n",
    "import geojson\n",
    "import folium\n",
    "import json\n",
    "import shapely.geometry\n",
    "from simpledbf import Dbf5\n",
    "from shapely import wkt\n",
    "\n",
    "gdf_zold = pd.read_csv(r\"C:\\Users\\T440s\\Google Drive\\rajk\\rajkos_kurzusok\\prog2\\PROJECT\\data\\test\\zoldter_pg_region.csv\")\n",
    "gdf_zold['geometry'] = gdf_zold['geometry'].apply(wkt.loads)\n",
    "gdf_zold = gpd.GeoDataFrame(gdf_zold)\n",
    "gdf_zold.set_geometry('geometry', crs={'init': u'epsg:'+str(4326)}, inplace=True)\n",
    "gdf_erdo = pd.read_csv(r\"C:\\Users\\T440s\\Google Drive\\rajk\\rajkos_kurzusok\\prog2\\PROJECT\\data\\test\\erdo_pg_region.csv\")\n",
    "gdf_erdo['geometry'] = gdf_erdo['geometry'].apply(wkt.loads)\n",
    "gdf_erdo = gpd.GeoDataFrame(gdf_erdo)\n",
    "gdf_erdo.set_geometry('geometry', crs={'init': u'epsg:'+str(4326)}, inplace=True)\n",
    "gdf_erdopoint = pd.read_csv(r\"C:\\Users\\T440s\\Google Drive\\rajk\\rajkos_kurzusok\\prog2\\PROJECT\\data\\test\\erdo_pt_point.csv\")\n",
    "gdf_erdopoint['geometry'] = gdf_erdopoint['geometry'].apply(wkt.loads)\n",
    "gdf_erdopoint = gpd.GeoDataFrame(gdf_erdopoint)\n",
    "gdf_erdopoint.set_geometry('geometry', crs={'init': u'epsg:'+str(4326)}, inplace=True)\n",
    "gdf_erdopoint.rename(columns = {'Kerület': 'kerulet'}, inplace = True)\n",
    "#gdf_erdopoint.drop('Unnamed: 0', axis = 1, inplace = True)\n",
    "#gdf_zold.drop('Unnamed: 0', axis = 1, inplace = True)\n",
    "gdf_all = gdf_zold.append(gdf_erdopoint)"
   ]
  },
  {
   "cell_type": "code",
   "execution_count": 2,
   "metadata": {},
   "outputs": [
    {
     "ename": "NameError",
     "evalue": "name 'gdf_zold' is not defined",
     "output_type": "error",
     "traceback": [
      "\u001b[1;31m---------------------------------------------------------------------------\u001b[0m",
      "\u001b[1;31mNameError\u001b[0m                                 Traceback (most recent call last)",
      "\u001b[1;32m<ipython-input-2-3edd7c716d07>\u001b[0m in \u001b[0;36m<module>\u001b[1;34m\u001b[0m\n\u001b[0;32m     10\u001b[0m )\n\u001b[0;32m     11\u001b[0m gdf_combined = pd.merge(\n\u001b[1;32m---> 12\u001b[1;33m     \u001b[0mgdf_zold\u001b[0m\u001b[1;33m,\u001b[0m \u001b[0mgdf_zoldtest1\u001b[0m\u001b[1;33m,\u001b[0m \u001b[0mon\u001b[0m\u001b[1;33m=\u001b[0m\u001b[1;33m[\u001b[0m\u001b[1;34m\"Nev\"\u001b[0m\u001b[1;33m,\u001b[0m \u001b[1;34m\"kerulet\"\u001b[0m\u001b[1;33m,\u001b[0m \u001b[1;34m\"Terulet\"\u001b[0m\u001b[1;33m]\u001b[0m\u001b[1;33m,\u001b[0m \u001b[0mhow\u001b[0m\u001b[1;33m=\u001b[0m\u001b[1;34m\"outer\"\u001b[0m\u001b[1;33m\u001b[0m\u001b[1;33m\u001b[0m\u001b[0m\n\u001b[0m\u001b[0;32m     13\u001b[0m )\n\u001b[0;32m     14\u001b[0m \u001b[0mgdf_combined\u001b[0m\u001b[1;33m[\u001b[0m\u001b[1;34m\"mean_visitors\"\u001b[0m\u001b[1;33m]\u001b[0m \u001b[1;33m=\u001b[0m \u001b[0mgdf_combined\u001b[0m\u001b[1;33m.\u001b[0m\u001b[0miloc\u001b[0m\u001b[1;33m[\u001b[0m\u001b[1;33m:\u001b[0m\u001b[1;33m,\u001b[0m \u001b[1;36m10\u001b[0m\u001b[1;33m:\u001b[0m\u001b[1;33m]\u001b[0m\u001b[1;33m.\u001b[0m\u001b[0mmean\u001b[0m\u001b[1;33m(\u001b[0m\u001b[0maxis\u001b[0m\u001b[1;33m=\u001b[0m\u001b[1;36m1\u001b[0m\u001b[1;33m)\u001b[0m\u001b[1;33m\u001b[0m\u001b[1;33m\u001b[0m\u001b[0m\n",
      "\u001b[1;31mNameError\u001b[0m: name 'gdf_zold' is not defined"
     ]
    }
   ],
   "source": [
    "# adding test visitors\n",
    "gdf_zoldtest1 = pd.read_excel(\n",
    "    r\"C:\\Users\\T440s\\Google Drive\\rajk\\rajkos_kurzusok\\prog2\\PROJECT\\data\\test\\test1.xlsx\"\n",
    ")\n",
    "gdf_zoldtest2 = pd.read_excel(\n",
    "    r\"C:\\Users\\T440s\\Google Drive\\rajk\\rajkos_kurzusok\\prog2\\PROJECT\\data\\test\\test2.xlsx\"\n",
    ")\n",
    "gdf_zoldtest3 = pd.read_excel(\n",
    "    r\"C:\\Users\\T440s\\Google Drive\\rajk\\rajkos_kurzusok\\prog2\\PROJECT\\data\\test\\test3.xlsx\"\n",
    ")\n",
    "gdf_combined = pd.merge(\n",
    "    gdf_zold, gdf_zoldtest1, on=[\"Nev\", \"kerulet\", \"Terulet\"], how=\"outer\"\n",
    ")\n",
    "gdf_combined[\"mean_visitors\"] = gdf_combined.iloc[:, 10:].mean(axis=1)\n",
    "gdf_combined[\"mean_visitors\"] = gdf_combined[\"mean_visitors\"].round(0)"
   ]
  },
  {
   "cell_type": "code",
   "execution_count": 5,
   "metadata": {
    "scrolled": true
   },
   "outputs": [],
   "source": [
    "# #df = pd.read_csv(r\"C:\\Users\\T440s\\Google Drive\\rajk\\rajkos_kurzusok\\prog2\\PROJECT\\data\\test\\test1.csv\", quotechar='\"')\n",
    "\n",
    "# n = 28\n",
    "# df = pd.read_csv(r\"C:\\Users\\T440s\\Google Drive\\rajk\\rajkos_kurzusok\\prog2\\PROJECT\\data\\test\\test1.csv\",\n",
    "#                  usecols=range(n),\n",
    "#                  lineterminator='\\n',\n",
    "#                  header=int)"
   ]
  },
  {
   "cell_type": "code",
   "execution_count": 53,
   "metadata": {},
   "outputs": [
    {
     "ename": "NameError",
     "evalue": "name 'gdf_combined_aggregated' is not defined",
     "output_type": "error",
     "traceback": [
      "\u001b[1;31m---------------------------------------------------------------------------\u001b[0m",
      "\u001b[1;31mNameError\u001b[0m                                 Traceback (most recent call last)",
      "\u001b[1;32m<ipython-input-53-0caa6ea7873d>\u001b[0m in \u001b[0;36m<module>\u001b[1;34m\u001b[0m\n\u001b[0;32m     46\u001b[0m \u001b[1;31m#gjson_erdo = folium.GeoJson(gdf_erdo, style_function_erdo, highlight_function, tooltip = tooltip_erdo).add_to(maps)\u001b[0m\u001b[1;33m\u001b[0m\u001b[1;33m\u001b[0m\u001b[1;33m\u001b[0m\u001b[0m\n\u001b[0;32m     47\u001b[0m \u001b[0mgjson_erdo\u001b[0m \u001b[1;33m=\u001b[0m \u001b[0mfolium\u001b[0m\u001b[1;33m.\u001b[0m\u001b[0mGeoJson\u001b[0m\u001b[1;33m(\u001b[0m\u001b[0mgdf_erdo\u001b[0m\u001b[1;33m,\u001b[0m \u001b[0mstyle_function_erdo\u001b[0m\u001b[1;33m)\u001b[0m\u001b[1;33m.\u001b[0m\u001b[0madd_to\u001b[0m\u001b[1;33m(\u001b[0m\u001b[0mmaps\u001b[0m\u001b[1;33m)\u001b[0m\u001b[1;33m\u001b[0m\u001b[1;33m\u001b[0m\u001b[0m\n\u001b[1;32m---> 48\u001b[1;33m \u001b[0mgjson_erdopoint\u001b[0m \u001b[1;33m=\u001b[0m \u001b[0mfolium\u001b[0m\u001b[1;33m.\u001b[0m\u001b[0mGeoJson\u001b[0m\u001b[1;33m(\u001b[0m\u001b[0mgdf_combined_aggregated\u001b[0m\u001b[1;33m,\u001b[0m\u001b[0mstyle_function_zold\u001b[0m\u001b[1;33m,\u001b[0m \u001b[0mtooltip\u001b[0m \u001b[1;33m=\u001b[0m\u001b[0mtooltip_zold\u001b[0m\u001b[1;33m)\u001b[0m\u001b[1;33m.\u001b[0m\u001b[0madd_to\u001b[0m\u001b[1;33m(\u001b[0m\u001b[0mmaps\u001b[0m\u001b[1;33m)\u001b[0m\u001b[1;33m\u001b[0m\u001b[1;33m\u001b[0m\u001b[0m\n\u001b[0m\u001b[0;32m     49\u001b[0m \u001b[1;31m#gjson_zold = folium.GeoJson(gdf_zold, style_function_zold, highlight_function, tooltip = tooltip_zold).add_to(maps)\u001b[0m\u001b[1;33m\u001b[0m\u001b[1;33m\u001b[0m\u001b[1;33m\u001b[0m\u001b[0m\n",
      "\u001b[1;31mNameError\u001b[0m: name 'gdf_combined_aggregated' is not defined"
     ]
    }
   ],
   "source": [
    "import dash\n",
    "import dash_html_components as html\n",
    "from flask import Flask\n",
    "import geopandas\n",
    "import pandas as pd\n",
    "import folium\n",
    "\n",
    "from data_processing import gdf_zold, gdf_erdo, gdf_erdopoint\n",
    "\n",
    "maps = folium.Map(location = [47.49909, 19.03093], tiles='Stamen Toner', zoom_start = 12, min_zoom = 11)\n",
    "\n",
    "style_function_zold = lambda x: {\n",
    "    'fillColor': 'darkblue',\n",
    "    'color': 'black',\n",
    "    'weight': 1,\n",
    "    'fillOpacity': 0.7\n",
    "}\n",
    "\n",
    "style_function_erdo = lambda x: {\n",
    "    'fillColor': 'darkgreen',\n",
    "    'color': 'black',\n",
    "    'weight': 1,\n",
    "    'fillOpacity': 0.7\n",
    "}\n",
    "\n",
    "tooltip_zold = folium.GeoJsonTooltip(\n",
    "        fields=['Nev','kerulet', 'tipus', 'mean_visitors'],\n",
    "        aliases=['Név:', 'Kerület:', 'Típus:', 'Átlagos látogatószám (heti):'],\n",
    "        localize=True\n",
    "    )\n",
    "\n",
    "tooltip_erdo = folium.GeoJsonTooltip(\n",
    "        fields=['tipus'],\n",
    "        aliases=['Típus:'],\n",
    "        localize=True\n",
    "    )\n",
    "\n",
    "# tooltip_erdopoint = folium.GeoJsonTooltip(\n",
    "#         fields=['Nev','kerulet', 'tipus'],\n",
    "#         aliases=['Név:', 'Kerület:', 'Típus:'],\n",
    "#         localize=True\n",
    "#     )\n",
    "\n",
    "highlight_function=lambda x: {'weight':2.5,'color':'yellow', 'dashArray':'1'}\n",
    "\n",
    "#gjson_erdo = folium.GeoJson(gdf_erdo, style_function_erdo, highlight_function, tooltip = tooltip_erdo).add_to(maps)\n",
    "gjson_erdo = folium.GeoJson(gdf_erdo, style_function_erdo).add_to(maps)\n",
    "gjson_erdopoint = folium.GeoJson(gdf_combined_aggregated,style_function_zold, tooltip =tooltip_zold).add_to(maps)\n",
    "#gjson_zold = folium.GeoJson(gdf_zold, style_function_zold, highlight_function, tooltip = tooltip_zold).add_to(maps)"
   ]
  },
  {
   "cell_type": "code",
   "execution_count": null,
   "metadata": {},
   "outputs": [],
   "source": [
    "maps"
   ]
  },
  {
   "cell_type": "code",
   "execution_count": 4,
   "metadata": {},
   "outputs": [
    {
     "name": "stdout",
     "output_type": "stream",
     "text": [
      "1\n",
      "2\n"
     ]
    }
   ],
   "source": [
    "## TRY EXCEPTET MEGCSINÁLNI, HOGY 30 NAPNYI AVERAGE LEGYEN\n",
    "\n",
    "from datetime import date\n",
    "\n",
    "\n",
    "def create_data(gdf_all):\n",
    "    \n",
    "    start_date = date.fromisoformat(\"2020-06-05\")  # this is the day of the first data\n",
    "    today = date.today()\n",
    "    day_since_start = (today - start_date).days\n",
    "    \n",
    "    load = False\n",
    "    while load == False:\n",
    "        try:\n",
    "            new_data = pd.read_excel(\n",
    "                r\"C:\\Users\\T440s\\Google Drive\\rajk\\rajkos_kurzusok\\prog2\\PROJECT\\data\\test\\test{}.xlsx\".format(\n",
    "                    day_since_start\n",
    "                )\n",
    "            )\n",
    "            load = True\n",
    "        except:\n",
    "            day_since_start -= 1\n",
    "\n",
    "    gdf_combined = pd.merge(gdf_all, new_data, on=[\"Nev\", \"kerulet\"], how=\"outer\")\n",
    "    gdf_combined[\"mean_visitors\"] = gdf_combined.iloc[:, 11:].mean(axis=1).round(0)\n",
    "    # gdf_combined[\"mean_visitors\"] = gdf_combined[\"mean_visitors\"]\n",
    "    gdf_combined_filtered = (\n",
    "        gdf_combined.set_index(\"Nev\")\n",
    "        .iloc[:, 10:-1]\n",
    "        .rename(lambda x: str(x) + \" óra\", axis=1)\n",
    "        .T\n",
    "    )\n",
    "\n",
    "    return gdf_combined, gdf_combined_filtered\n",
    "\n",
    "\n",
    "gdf_combined, gdf_combined_filtered = create_data(gdf_all)\n",
    "\n",
    "\n",
    "def create_agg_data(gdf_all):\n",
    "    \n",
    "    start_date = date.fromisoformat(\"2020-06-05\")  # this is the day of the first data\n",
    "    today = date.today()\n",
    "    day_since_start = (today - start_date).days\n",
    "    \n",
    "    missing_file_count = 0\n",
    "    load = False\n",
    "    while load == False:\n",
    "        try:\n",
    "            new_data = pd.read_excel(\n",
    "                r\"C:\\Users\\T440s\\Google Drive\\rajk\\rajkos_kurzusok\\prog2\\PROJECT\\data\\test\\test{}.xlsx\".format(\n",
    "                    day_since_start\n",
    "                )\n",
    "            )\n",
    "            load = True\n",
    "        except FileNotFoundError:\n",
    "            missing_file_count += 1\n",
    "            day_since_start -= 1\n",
    "            \n",
    "    gdf_aggregated = new_data.iloc[:, 4:]\n",
    "    for data in range(day_since_start-7, day_since_start): \n",
    "        try:\n",
    "            read_new = pd.read_excel(\n",
    "                r\"C:\\Users\\T440s\\Google Drive\\rajk\\rajkos_kurzusok\\prog2\\PROJECT\\data\\test\\test{}.xlsx\".format(\n",
    "                    data\n",
    "                )\n",
    "            )\n",
    "            print(data)\n",
    "            gdf_aggregated += round(read_new.iloc[:, 4:])\n",
    "        except FileNotFoundError:\n",
    "            pass\n",
    "\n",
    "    gdf_aggregated = round(gdf_aggregated / day_since_start)\n",
    "    gdf_aggregated = pd.concat(\n",
    "        [\n",
    "            new_data.iloc[:, :4].reset_index(drop=True),\n",
    "            gdf_aggregated.reset_index(drop=True),\n",
    "        ],\n",
    "        axis=1,\n",
    "    )\n",
    "    gdf_combined_aggregated = pd.merge(\n",
    "        gdf_all, gdf_aggregated, on=[\"Nev\", \"kerulet\"], how=\"outer\"\n",
    "    )\n",
    "    gdf_combined_aggregated[\"mean_visitors\"] = (\n",
    "        gdf_combined_aggregated.iloc[:, 11:].mean(axis=1).round(0)\n",
    "    )\n",
    "    gdf_combined_aggregated_filtered = (\n",
    "        gdf_combined_aggregated.set_index(\"Nev\")\n",
    "        .iloc[:, 10:-1]\n",
    "        .rename(lambda x: str(x) + \" óra\", axis=1)\n",
    "        .T\n",
    "    )\n",
    "    return gdf_aggregated, gdf_combined_aggregated, gdf_combined_aggregated_filtered\n",
    "\n",
    "\n",
    "gdf_aggregated, gdf_combined_aggregated, gdf_combined_aggregated_filtered = create_agg_data(gdf_all)"
   ]
  },
  {
   "cell_type": "code",
   "execution_count": 67,
   "metadata": {
    "scrolled": false
   },
   "outputs": [
    {
     "data": {
      "application/vnd.plotly.v1+json": {
       "config": {
        "plotlyServerURL": "https://plot.ly"
       },
       "data": [
        {
         "marker": {
          "color": "darkblue"
         },
         "name": "Átlagos heti látogatószám",
         "type": "bar",
         "x": [
          "0-1 óra",
          "1-2 óra",
          "2-3 óra",
          "3-4 óra",
          "4-5 óra",
          "5-6 óra",
          "6-7 óra",
          "7-8 óra",
          "8-9 óra",
          "9-10 óra",
          "10-11 óra",
          "11-12 óra",
          "12-13 óra",
          "13-14 óra",
          "14-15 óra",
          "15-16 óra",
          "16-17 óra",
          "17-18 óra",
          "18-19 óra",
          "19-20 óra",
          "20-21 óra",
          "21-22 óra",
          "22-23 óra",
          "23-24 óra"
         ],
         "y": [
          4001,
          6748,
          4855,
          6054,
          7301,
          4211,
          4841,
          2560,
          5592,
          5579,
          7018,
          6011,
          2714,
          5688,
          2106,
          376,
          1449,
          5425,
          2171,
          5114,
          5232,
          6250,
          5634,
          4285
         ]
        },
        {
         "marker": {
          "color": "darkgreen"
         },
         "name": "Előző napi látogató szám",
         "type": "bar",
         "x": [
          "0-1 óra",
          "1-2 óra",
          "2-3 óra",
          "3-4 óra",
          "4-5 óra",
          "5-6 óra",
          "6-7 óra",
          "7-8 óra",
          "8-9 óra",
          "9-10 óra",
          "10-11 óra",
          "11-12 óra",
          "12-13 óra",
          "13-14 óra",
          "14-15 óra",
          "15-16 óra",
          "16-17 óra",
          "17-18 óra",
          "18-19 óra",
          "19-20 óra",
          "20-21 óra",
          "21-22 óra",
          "22-23 óra",
          "23-24 óra"
         ],
         "y": [
          5734,
          5548,
          7592,
          7706,
          7485,
          3019,
          7091,
          2980,
          6636,
          3405,
          8601,
          8904,
          3696,
          9895,
          3942,
          167,
          333,
          3506,
          785,
          7168,
          5056,
          6770,
          3505,
          3868
         ]
        }
       ],
       "layout": {
        "font": {
         "color": "#7f7f7f",
         "size": 12
        },
        "legend": {
         "x": 0,
         "y": 1
        },
        "plot_bgcolor": "rgba(0,0,0,0)",
        "template": {
         "data": {
          "bar": [
           {
            "error_x": {
             "color": "#2a3f5f"
            },
            "error_y": {
             "color": "#2a3f5f"
            },
            "marker": {
             "line": {
              "color": "#E5ECF6",
              "width": 0.5
             }
            },
            "type": "bar"
           }
          ],
          "barpolar": [
           {
            "marker": {
             "line": {
              "color": "#E5ECF6",
              "width": 0.5
             }
            },
            "type": "barpolar"
           }
          ],
          "carpet": [
           {
            "aaxis": {
             "endlinecolor": "#2a3f5f",
             "gridcolor": "white",
             "linecolor": "white",
             "minorgridcolor": "white",
             "startlinecolor": "#2a3f5f"
            },
            "baxis": {
             "endlinecolor": "#2a3f5f",
             "gridcolor": "white",
             "linecolor": "white",
             "minorgridcolor": "white",
             "startlinecolor": "#2a3f5f"
            },
            "type": "carpet"
           }
          ],
          "choropleth": [
           {
            "colorbar": {
             "outlinewidth": 0,
             "ticks": ""
            },
            "type": "choropleth"
           }
          ],
          "contour": [
           {
            "colorbar": {
             "outlinewidth": 0,
             "ticks": ""
            },
            "colorscale": [
             [
              0,
              "#0d0887"
             ],
             [
              0.1111111111111111,
              "#46039f"
             ],
             [
              0.2222222222222222,
              "#7201a8"
             ],
             [
              0.3333333333333333,
              "#9c179e"
             ],
             [
              0.4444444444444444,
              "#bd3786"
             ],
             [
              0.5555555555555556,
              "#d8576b"
             ],
             [
              0.6666666666666666,
              "#ed7953"
             ],
             [
              0.7777777777777778,
              "#fb9f3a"
             ],
             [
              0.8888888888888888,
              "#fdca26"
             ],
             [
              1,
              "#f0f921"
             ]
            ],
            "type": "contour"
           }
          ],
          "contourcarpet": [
           {
            "colorbar": {
             "outlinewidth": 0,
             "ticks": ""
            },
            "type": "contourcarpet"
           }
          ],
          "heatmap": [
           {
            "colorbar": {
             "outlinewidth": 0,
             "ticks": ""
            },
            "colorscale": [
             [
              0,
              "#0d0887"
             ],
             [
              0.1111111111111111,
              "#46039f"
             ],
             [
              0.2222222222222222,
              "#7201a8"
             ],
             [
              0.3333333333333333,
              "#9c179e"
             ],
             [
              0.4444444444444444,
              "#bd3786"
             ],
             [
              0.5555555555555556,
              "#d8576b"
             ],
             [
              0.6666666666666666,
              "#ed7953"
             ],
             [
              0.7777777777777778,
              "#fb9f3a"
             ],
             [
              0.8888888888888888,
              "#fdca26"
             ],
             [
              1,
              "#f0f921"
             ]
            ],
            "type": "heatmap"
           }
          ],
          "heatmapgl": [
           {
            "colorbar": {
             "outlinewidth": 0,
             "ticks": ""
            },
            "colorscale": [
             [
              0,
              "#0d0887"
             ],
             [
              0.1111111111111111,
              "#46039f"
             ],
             [
              0.2222222222222222,
              "#7201a8"
             ],
             [
              0.3333333333333333,
              "#9c179e"
             ],
             [
              0.4444444444444444,
              "#bd3786"
             ],
             [
              0.5555555555555556,
              "#d8576b"
             ],
             [
              0.6666666666666666,
              "#ed7953"
             ],
             [
              0.7777777777777778,
              "#fb9f3a"
             ],
             [
              0.8888888888888888,
              "#fdca26"
             ],
             [
              1,
              "#f0f921"
             ]
            ],
            "type": "heatmapgl"
           }
          ],
          "histogram": [
           {
            "marker": {
             "colorbar": {
              "outlinewidth": 0,
              "ticks": ""
             }
            },
            "type": "histogram"
           }
          ],
          "histogram2d": [
           {
            "colorbar": {
             "outlinewidth": 0,
             "ticks": ""
            },
            "colorscale": [
             [
              0,
              "#0d0887"
             ],
             [
              0.1111111111111111,
              "#46039f"
             ],
             [
              0.2222222222222222,
              "#7201a8"
             ],
             [
              0.3333333333333333,
              "#9c179e"
             ],
             [
              0.4444444444444444,
              "#bd3786"
             ],
             [
              0.5555555555555556,
              "#d8576b"
             ],
             [
              0.6666666666666666,
              "#ed7953"
             ],
             [
              0.7777777777777778,
              "#fb9f3a"
             ],
             [
              0.8888888888888888,
              "#fdca26"
             ],
             [
              1,
              "#f0f921"
             ]
            ],
            "type": "histogram2d"
           }
          ],
          "histogram2dcontour": [
           {
            "colorbar": {
             "outlinewidth": 0,
             "ticks": ""
            },
            "colorscale": [
             [
              0,
              "#0d0887"
             ],
             [
              0.1111111111111111,
              "#46039f"
             ],
             [
              0.2222222222222222,
              "#7201a8"
             ],
             [
              0.3333333333333333,
              "#9c179e"
             ],
             [
              0.4444444444444444,
              "#bd3786"
             ],
             [
              0.5555555555555556,
              "#d8576b"
             ],
             [
              0.6666666666666666,
              "#ed7953"
             ],
             [
              0.7777777777777778,
              "#fb9f3a"
             ],
             [
              0.8888888888888888,
              "#fdca26"
             ],
             [
              1,
              "#f0f921"
             ]
            ],
            "type": "histogram2dcontour"
           }
          ],
          "mesh3d": [
           {
            "colorbar": {
             "outlinewidth": 0,
             "ticks": ""
            },
            "type": "mesh3d"
           }
          ],
          "parcoords": [
           {
            "line": {
             "colorbar": {
              "outlinewidth": 0,
              "ticks": ""
             }
            },
            "type": "parcoords"
           }
          ],
          "pie": [
           {
            "automargin": true,
            "type": "pie"
           }
          ],
          "scatter": [
           {
            "marker": {
             "colorbar": {
              "outlinewidth": 0,
              "ticks": ""
             }
            },
            "type": "scatter"
           }
          ],
          "scatter3d": [
           {
            "line": {
             "colorbar": {
              "outlinewidth": 0,
              "ticks": ""
             }
            },
            "marker": {
             "colorbar": {
              "outlinewidth": 0,
              "ticks": ""
             }
            },
            "type": "scatter3d"
           }
          ],
          "scattercarpet": [
           {
            "marker": {
             "colorbar": {
              "outlinewidth": 0,
              "ticks": ""
             }
            },
            "type": "scattercarpet"
           }
          ],
          "scattergeo": [
           {
            "marker": {
             "colorbar": {
              "outlinewidth": 0,
              "ticks": ""
             }
            },
            "type": "scattergeo"
           }
          ],
          "scattergl": [
           {
            "marker": {
             "colorbar": {
              "outlinewidth": 0,
              "ticks": ""
             }
            },
            "type": "scattergl"
           }
          ],
          "scattermapbox": [
           {
            "marker": {
             "colorbar": {
              "outlinewidth": 0,
              "ticks": ""
             }
            },
            "type": "scattermapbox"
           }
          ],
          "scatterpolar": [
           {
            "marker": {
             "colorbar": {
              "outlinewidth": 0,
              "ticks": ""
             }
            },
            "type": "scatterpolar"
           }
          ],
          "scatterpolargl": [
           {
            "marker": {
             "colorbar": {
              "outlinewidth": 0,
              "ticks": ""
             }
            },
            "type": "scatterpolargl"
           }
          ],
          "scatterternary": [
           {
            "marker": {
             "colorbar": {
              "outlinewidth": 0,
              "ticks": ""
             }
            },
            "type": "scatterternary"
           }
          ],
          "surface": [
           {
            "colorbar": {
             "outlinewidth": 0,
             "ticks": ""
            },
            "colorscale": [
             [
              0,
              "#0d0887"
             ],
             [
              0.1111111111111111,
              "#46039f"
             ],
             [
              0.2222222222222222,
              "#7201a8"
             ],
             [
              0.3333333333333333,
              "#9c179e"
             ],
             [
              0.4444444444444444,
              "#bd3786"
             ],
             [
              0.5555555555555556,
              "#d8576b"
             ],
             [
              0.6666666666666666,
              "#ed7953"
             ],
             [
              0.7777777777777778,
              "#fb9f3a"
             ],
             [
              0.8888888888888888,
              "#fdca26"
             ],
             [
              1,
              "#f0f921"
             ]
            ],
            "type": "surface"
           }
          ],
          "table": [
           {
            "cells": {
             "fill": {
              "color": "#EBF0F8"
             },
             "line": {
              "color": "white"
             }
            },
            "header": {
             "fill": {
              "color": "#C8D4E3"
             },
             "line": {
              "color": "white"
             }
            },
            "type": "table"
           }
          ]
         },
         "layout": {
          "annotationdefaults": {
           "arrowcolor": "#2a3f5f",
           "arrowhead": 0,
           "arrowwidth": 1
          },
          "coloraxis": {
           "colorbar": {
            "outlinewidth": 0,
            "ticks": ""
           }
          },
          "colorscale": {
           "diverging": [
            [
             0,
             "#8e0152"
            ],
            [
             0.1,
             "#c51b7d"
            ],
            [
             0.2,
             "#de77ae"
            ],
            [
             0.3,
             "#f1b6da"
            ],
            [
             0.4,
             "#fde0ef"
            ],
            [
             0.5,
             "#f7f7f7"
            ],
            [
             0.6,
             "#e6f5d0"
            ],
            [
             0.7,
             "#b8e186"
            ],
            [
             0.8,
             "#7fbc41"
            ],
            [
             0.9,
             "#4d9221"
            ],
            [
             1,
             "#276419"
            ]
           ],
           "sequential": [
            [
             0,
             "#0d0887"
            ],
            [
             0.1111111111111111,
             "#46039f"
            ],
            [
             0.2222222222222222,
             "#7201a8"
            ],
            [
             0.3333333333333333,
             "#9c179e"
            ],
            [
             0.4444444444444444,
             "#bd3786"
            ],
            [
             0.5555555555555556,
             "#d8576b"
            ],
            [
             0.6666666666666666,
             "#ed7953"
            ],
            [
             0.7777777777777778,
             "#fb9f3a"
            ],
            [
             0.8888888888888888,
             "#fdca26"
            ],
            [
             1,
             "#f0f921"
            ]
           ],
           "sequentialminus": [
            [
             0,
             "#0d0887"
            ],
            [
             0.1111111111111111,
             "#46039f"
            ],
            [
             0.2222222222222222,
             "#7201a8"
            ],
            [
             0.3333333333333333,
             "#9c179e"
            ],
            [
             0.4444444444444444,
             "#bd3786"
            ],
            [
             0.5555555555555556,
             "#d8576b"
            ],
            [
             0.6666666666666666,
             "#ed7953"
            ],
            [
             0.7777777777777778,
             "#fb9f3a"
            ],
            [
             0.8888888888888888,
             "#fdca26"
            ],
            [
             1,
             "#f0f921"
            ]
           ]
          },
          "colorway": [
           "#636efa",
           "#EF553B",
           "#00cc96",
           "#ab63fa",
           "#FFA15A",
           "#19d3f3",
           "#FF6692",
           "#B6E880",
           "#FF97FF",
           "#FECB52"
          ],
          "font": {
           "color": "#2a3f5f"
          },
          "geo": {
           "bgcolor": "white",
           "lakecolor": "white",
           "landcolor": "#E5ECF6",
           "showlakes": true,
           "showland": true,
           "subunitcolor": "white"
          },
          "hoverlabel": {
           "align": "left"
          },
          "hovermode": "closest",
          "mapbox": {
           "style": "light"
          },
          "paper_bgcolor": "white",
          "plot_bgcolor": "#E5ECF6",
          "polar": {
           "angularaxis": {
            "gridcolor": "white",
            "linecolor": "white",
            "ticks": ""
           },
           "bgcolor": "#E5ECF6",
           "radialaxis": {
            "gridcolor": "white",
            "linecolor": "white",
            "ticks": ""
           }
          },
          "scene": {
           "xaxis": {
            "backgroundcolor": "#E5ECF6",
            "gridcolor": "white",
            "gridwidth": 2,
            "linecolor": "white",
            "showbackground": true,
            "ticks": "",
            "zerolinecolor": "white"
           },
           "yaxis": {
            "backgroundcolor": "#E5ECF6",
            "gridcolor": "white",
            "gridwidth": 2,
            "linecolor": "white",
            "showbackground": true,
            "ticks": "",
            "zerolinecolor": "white"
           },
           "zaxis": {
            "backgroundcolor": "#E5ECF6",
            "gridcolor": "white",
            "gridwidth": 2,
            "linecolor": "white",
            "showbackground": true,
            "ticks": "",
            "zerolinecolor": "white"
           }
          },
          "shapedefaults": {
           "line": {
            "color": "#2a3f5f"
           }
          },
          "ternary": {
           "aaxis": {
            "gridcolor": "white",
            "linecolor": "white",
            "ticks": ""
           },
           "baxis": {
            "gridcolor": "white",
            "linecolor": "white",
            "ticks": ""
           },
           "bgcolor": "#E5ECF6",
           "caxis": {
            "gridcolor": "white",
            "linecolor": "white",
            "ticks": ""
           }
          },
          "title": {
           "x": 0.05
          },
          "xaxis": {
           "automargin": true,
           "gridcolor": "white",
           "linecolor": "white",
           "ticks": "",
           "title": {
            "standoff": 15
           },
           "zerolinecolor": "white",
           "zerolinewidth": 2
          },
          "yaxis": {
           "automargin": true,
           "gridcolor": "white",
           "linecolor": "white",
           "ticks": "",
           "title": {
            "standoff": 15
           },
           "zerolinecolor": "white",
           "zerolinewidth": 2
          }
         }
        },
        "title": {
         "text": "Látogatók számának előző napi és átlagos előző heti óránkénti eloszlása",
         "x": 0.45,
         "xanchor": "center",
         "y": 0.88
        },
        "xaxis": {
         "title": {
          "text": "Óránkénti látogatószám"
         }
        },
        "yaxis": {
         "title": {
          "text": "y Axis Title"
         }
        }
       }
      },
      "text/html": [
       "<div>\n",
       "        \n",
       "        \n",
       "            <div id=\"be758613-da43-4fe5-b1c2-33a00da34a30\" class=\"plotly-graph-div\" style=\"height:525px; width:100%;\"></div>\n",
       "            <script type=\"text/javascript\">\n",
       "                require([\"plotly\"], function(Plotly) {\n",
       "                    window.PLOTLYENV=window.PLOTLYENV || {};\n",
       "                    \n",
       "                if (document.getElementById(\"be758613-da43-4fe5-b1c2-33a00da34a30\")) {\n",
       "                    Plotly.newPlot(\n",
       "                        'be758613-da43-4fe5-b1c2-33a00da34a30',\n",
       "                        [{\"marker\": {\"color\": \"darkblue\"}, \"name\": \"\\u00c1tlagos heti l\\u00e1togat\\u00f3sz\\u00e1m\", \"type\": \"bar\", \"x\": [\"0-1 \\u00f3ra\", \"1-2 \\u00f3ra\", \"2-3 \\u00f3ra\", \"3-4 \\u00f3ra\", \"4-5 \\u00f3ra\", \"5-6 \\u00f3ra\", \"6-7 \\u00f3ra\", \"7-8 \\u00f3ra\", \"8-9 \\u00f3ra\", \"9-10 \\u00f3ra\", \"10-11 \\u00f3ra\", \"11-12 \\u00f3ra\", \"12-13 \\u00f3ra\", \"13-14 \\u00f3ra\", \"14-15 \\u00f3ra\", \"15-16 \\u00f3ra\", \"16-17 \\u00f3ra\", \"17-18 \\u00f3ra\", \"18-19 \\u00f3ra\", \"19-20 \\u00f3ra\", \"20-21 \\u00f3ra\", \"21-22 \\u00f3ra\", \"22-23 \\u00f3ra\", \"23-24 \\u00f3ra\"], \"y\": [4001.0, 6748.0, 4855.0, 6054.0, 7301.0, 4211.0, 4841.0, 2560.0, 5592.0, 5579.0, 7018.0, 6011.0, 2714.0, 5688.0, 2106.0, 376.0, 1449.0, 5425.0, 2171.0, 5114.0, 5232.0, 6250.0, 5634.0, 4285.0]}, {\"marker\": {\"color\": \"darkgreen\"}, \"name\": \"El\\u0151z\\u0151 napi l\\u00e1togat\\u00f3 sz\\u00e1m\", \"type\": \"bar\", \"x\": [\"0-1 \\u00f3ra\", \"1-2 \\u00f3ra\", \"2-3 \\u00f3ra\", \"3-4 \\u00f3ra\", \"4-5 \\u00f3ra\", \"5-6 \\u00f3ra\", \"6-7 \\u00f3ra\", \"7-8 \\u00f3ra\", \"8-9 \\u00f3ra\", \"9-10 \\u00f3ra\", \"10-11 \\u00f3ra\", \"11-12 \\u00f3ra\", \"12-13 \\u00f3ra\", \"13-14 \\u00f3ra\", \"14-15 \\u00f3ra\", \"15-16 \\u00f3ra\", \"16-17 \\u00f3ra\", \"17-18 \\u00f3ra\", \"18-19 \\u00f3ra\", \"19-20 \\u00f3ra\", \"20-21 \\u00f3ra\", \"21-22 \\u00f3ra\", \"22-23 \\u00f3ra\", \"23-24 \\u00f3ra\"], \"y\": [5734, 5548, 7592, 7706, 7485, 3019, 7091, 2980, 6636, 3405, 8601, 8904, 3696, 9895, 3942, 167, 333, 3506, 785, 7168, 5056, 6770, 3505, 3868]}],\n",
       "                        {\"font\": {\"color\": \"#7f7f7f\", \"size\": 12}, \"legend\": {\"x\": 0, \"y\": 1}, \"plot_bgcolor\": \"rgba(0,0,0,0)\", \"template\": {\"data\": {\"bar\": [{\"error_x\": {\"color\": \"#2a3f5f\"}, \"error_y\": {\"color\": \"#2a3f5f\"}, \"marker\": {\"line\": {\"color\": \"#E5ECF6\", \"width\": 0.5}}, \"type\": \"bar\"}], \"barpolar\": [{\"marker\": {\"line\": {\"color\": \"#E5ECF6\", \"width\": 0.5}}, \"type\": \"barpolar\"}], \"carpet\": [{\"aaxis\": {\"endlinecolor\": \"#2a3f5f\", \"gridcolor\": \"white\", \"linecolor\": \"white\", \"minorgridcolor\": \"white\", \"startlinecolor\": \"#2a3f5f\"}, \"baxis\": {\"endlinecolor\": \"#2a3f5f\", \"gridcolor\": \"white\", \"linecolor\": \"white\", \"minorgridcolor\": \"white\", \"startlinecolor\": \"#2a3f5f\"}, \"type\": \"carpet\"}], \"choropleth\": [{\"colorbar\": {\"outlinewidth\": 0, \"ticks\": \"\"}, \"type\": \"choropleth\"}], \"contour\": [{\"colorbar\": {\"outlinewidth\": 0, \"ticks\": \"\"}, \"colorscale\": [[0.0, \"#0d0887\"], [0.1111111111111111, \"#46039f\"], [0.2222222222222222, \"#7201a8\"], [0.3333333333333333, \"#9c179e\"], [0.4444444444444444, \"#bd3786\"], [0.5555555555555556, \"#d8576b\"], [0.6666666666666666, \"#ed7953\"], [0.7777777777777778, \"#fb9f3a\"], [0.8888888888888888, \"#fdca26\"], [1.0, \"#f0f921\"]], \"type\": \"contour\"}], \"contourcarpet\": [{\"colorbar\": {\"outlinewidth\": 0, \"ticks\": \"\"}, \"type\": \"contourcarpet\"}], \"heatmap\": [{\"colorbar\": {\"outlinewidth\": 0, \"ticks\": \"\"}, \"colorscale\": [[0.0, \"#0d0887\"], [0.1111111111111111, \"#46039f\"], [0.2222222222222222, \"#7201a8\"], [0.3333333333333333, \"#9c179e\"], [0.4444444444444444, \"#bd3786\"], [0.5555555555555556, \"#d8576b\"], [0.6666666666666666, \"#ed7953\"], [0.7777777777777778, \"#fb9f3a\"], [0.8888888888888888, \"#fdca26\"], [1.0, \"#f0f921\"]], \"type\": \"heatmap\"}], \"heatmapgl\": [{\"colorbar\": {\"outlinewidth\": 0, \"ticks\": \"\"}, \"colorscale\": [[0.0, \"#0d0887\"], [0.1111111111111111, \"#46039f\"], [0.2222222222222222, \"#7201a8\"], [0.3333333333333333, \"#9c179e\"], [0.4444444444444444, \"#bd3786\"], [0.5555555555555556, \"#d8576b\"], [0.6666666666666666, \"#ed7953\"], [0.7777777777777778, \"#fb9f3a\"], [0.8888888888888888, \"#fdca26\"], [1.0, \"#f0f921\"]], \"type\": \"heatmapgl\"}], \"histogram\": [{\"marker\": {\"colorbar\": {\"outlinewidth\": 0, \"ticks\": \"\"}}, \"type\": \"histogram\"}], \"histogram2d\": [{\"colorbar\": {\"outlinewidth\": 0, \"ticks\": \"\"}, \"colorscale\": [[0.0, \"#0d0887\"], [0.1111111111111111, \"#46039f\"], [0.2222222222222222, \"#7201a8\"], [0.3333333333333333, \"#9c179e\"], [0.4444444444444444, \"#bd3786\"], [0.5555555555555556, \"#d8576b\"], [0.6666666666666666, \"#ed7953\"], [0.7777777777777778, \"#fb9f3a\"], [0.8888888888888888, \"#fdca26\"], [1.0, \"#f0f921\"]], \"type\": \"histogram2d\"}], \"histogram2dcontour\": [{\"colorbar\": {\"outlinewidth\": 0, \"ticks\": \"\"}, \"colorscale\": [[0.0, \"#0d0887\"], [0.1111111111111111, \"#46039f\"], [0.2222222222222222, \"#7201a8\"], [0.3333333333333333, \"#9c179e\"], [0.4444444444444444, \"#bd3786\"], [0.5555555555555556, \"#d8576b\"], [0.6666666666666666, \"#ed7953\"], [0.7777777777777778, \"#fb9f3a\"], [0.8888888888888888, \"#fdca26\"], [1.0, \"#f0f921\"]], \"type\": \"histogram2dcontour\"}], \"mesh3d\": [{\"colorbar\": {\"outlinewidth\": 0, \"ticks\": \"\"}, \"type\": \"mesh3d\"}], \"parcoords\": [{\"line\": {\"colorbar\": {\"outlinewidth\": 0, \"ticks\": \"\"}}, \"type\": \"parcoords\"}], \"pie\": [{\"automargin\": true, \"type\": \"pie\"}], \"scatter\": [{\"marker\": {\"colorbar\": {\"outlinewidth\": 0, \"ticks\": \"\"}}, \"type\": \"scatter\"}], \"scatter3d\": [{\"line\": {\"colorbar\": {\"outlinewidth\": 0, \"ticks\": \"\"}}, \"marker\": {\"colorbar\": {\"outlinewidth\": 0, \"ticks\": \"\"}}, \"type\": \"scatter3d\"}], \"scattercarpet\": [{\"marker\": {\"colorbar\": {\"outlinewidth\": 0, \"ticks\": \"\"}}, \"type\": \"scattercarpet\"}], \"scattergeo\": [{\"marker\": {\"colorbar\": {\"outlinewidth\": 0, \"ticks\": \"\"}}, \"type\": \"scattergeo\"}], \"scattergl\": [{\"marker\": {\"colorbar\": {\"outlinewidth\": 0, \"ticks\": \"\"}}, \"type\": \"scattergl\"}], \"scattermapbox\": [{\"marker\": {\"colorbar\": {\"outlinewidth\": 0, \"ticks\": \"\"}}, \"type\": \"scattermapbox\"}], \"scatterpolar\": [{\"marker\": {\"colorbar\": {\"outlinewidth\": 0, \"ticks\": \"\"}}, \"type\": \"scatterpolar\"}], \"scatterpolargl\": [{\"marker\": {\"colorbar\": {\"outlinewidth\": 0, \"ticks\": \"\"}}, \"type\": \"scatterpolargl\"}], \"scatterternary\": [{\"marker\": {\"colorbar\": {\"outlinewidth\": 0, \"ticks\": \"\"}}, \"type\": \"scatterternary\"}], \"surface\": [{\"colorbar\": {\"outlinewidth\": 0, \"ticks\": \"\"}, \"colorscale\": [[0.0, \"#0d0887\"], [0.1111111111111111, \"#46039f\"], [0.2222222222222222, \"#7201a8\"], [0.3333333333333333, \"#9c179e\"], [0.4444444444444444, \"#bd3786\"], [0.5555555555555556, \"#d8576b\"], [0.6666666666666666, \"#ed7953\"], [0.7777777777777778, \"#fb9f3a\"], [0.8888888888888888, \"#fdca26\"], [1.0, \"#f0f921\"]], \"type\": \"surface\"}], \"table\": [{\"cells\": {\"fill\": {\"color\": \"#EBF0F8\"}, \"line\": {\"color\": \"white\"}}, \"header\": {\"fill\": {\"color\": \"#C8D4E3\"}, \"line\": {\"color\": \"white\"}}, \"type\": \"table\"}]}, \"layout\": {\"annotationdefaults\": {\"arrowcolor\": \"#2a3f5f\", \"arrowhead\": 0, \"arrowwidth\": 1}, \"coloraxis\": {\"colorbar\": {\"outlinewidth\": 0, \"ticks\": \"\"}}, \"colorscale\": {\"diverging\": [[0, \"#8e0152\"], [0.1, \"#c51b7d\"], [0.2, \"#de77ae\"], [0.3, \"#f1b6da\"], [0.4, \"#fde0ef\"], [0.5, \"#f7f7f7\"], [0.6, \"#e6f5d0\"], [0.7, \"#b8e186\"], [0.8, \"#7fbc41\"], [0.9, \"#4d9221\"], [1, \"#276419\"]], \"sequential\": [[0.0, \"#0d0887\"], [0.1111111111111111, \"#46039f\"], [0.2222222222222222, \"#7201a8\"], [0.3333333333333333, \"#9c179e\"], [0.4444444444444444, \"#bd3786\"], [0.5555555555555556, \"#d8576b\"], [0.6666666666666666, \"#ed7953\"], [0.7777777777777778, \"#fb9f3a\"], [0.8888888888888888, \"#fdca26\"], [1.0, \"#f0f921\"]], \"sequentialminus\": [[0.0, \"#0d0887\"], [0.1111111111111111, \"#46039f\"], [0.2222222222222222, \"#7201a8\"], [0.3333333333333333, \"#9c179e\"], [0.4444444444444444, \"#bd3786\"], [0.5555555555555556, \"#d8576b\"], [0.6666666666666666, \"#ed7953\"], [0.7777777777777778, \"#fb9f3a\"], [0.8888888888888888, \"#fdca26\"], [1.0, \"#f0f921\"]]}, \"colorway\": [\"#636efa\", \"#EF553B\", \"#00cc96\", \"#ab63fa\", \"#FFA15A\", \"#19d3f3\", \"#FF6692\", \"#B6E880\", \"#FF97FF\", \"#FECB52\"], \"font\": {\"color\": \"#2a3f5f\"}, \"geo\": {\"bgcolor\": \"white\", \"lakecolor\": \"white\", \"landcolor\": \"#E5ECF6\", \"showlakes\": true, \"showland\": true, \"subunitcolor\": \"white\"}, \"hoverlabel\": {\"align\": \"left\"}, \"hovermode\": \"closest\", \"mapbox\": {\"style\": \"light\"}, \"paper_bgcolor\": \"white\", \"plot_bgcolor\": \"#E5ECF6\", \"polar\": {\"angularaxis\": {\"gridcolor\": \"white\", \"linecolor\": \"white\", \"ticks\": \"\"}, \"bgcolor\": \"#E5ECF6\", \"radialaxis\": {\"gridcolor\": \"white\", \"linecolor\": \"white\", \"ticks\": \"\"}}, \"scene\": {\"xaxis\": {\"backgroundcolor\": \"#E5ECF6\", \"gridcolor\": \"white\", \"gridwidth\": 2, \"linecolor\": \"white\", \"showbackground\": true, \"ticks\": \"\", \"zerolinecolor\": \"white\"}, \"yaxis\": {\"backgroundcolor\": \"#E5ECF6\", \"gridcolor\": \"white\", \"gridwidth\": 2, \"linecolor\": \"white\", \"showbackground\": true, \"ticks\": \"\", \"zerolinecolor\": \"white\"}, \"zaxis\": {\"backgroundcolor\": \"#E5ECF6\", \"gridcolor\": \"white\", \"gridwidth\": 2, \"linecolor\": \"white\", \"showbackground\": true, \"ticks\": \"\", \"zerolinecolor\": \"white\"}}, \"shapedefaults\": {\"line\": {\"color\": \"#2a3f5f\"}}, \"ternary\": {\"aaxis\": {\"gridcolor\": \"white\", \"linecolor\": \"white\", \"ticks\": \"\"}, \"baxis\": {\"gridcolor\": \"white\", \"linecolor\": \"white\", \"ticks\": \"\"}, \"bgcolor\": \"#E5ECF6\", \"caxis\": {\"gridcolor\": \"white\", \"linecolor\": \"white\", \"ticks\": \"\"}}, \"title\": {\"x\": 0.05}, \"xaxis\": {\"automargin\": true, \"gridcolor\": \"white\", \"linecolor\": \"white\", \"ticks\": \"\", \"title\": {\"standoff\": 15}, \"zerolinecolor\": \"white\", \"zerolinewidth\": 2}, \"yaxis\": {\"automargin\": true, \"gridcolor\": \"white\", \"linecolor\": \"white\", \"ticks\": \"\", \"title\": {\"standoff\": 15}, \"zerolinecolor\": \"white\", \"zerolinewidth\": 2}}}, \"title\": {\"text\": \"L\\u00e1togat\\u00f3k sz\\u00e1m\\u00e1nak el\\u0151z\\u0151 napi \\u00e9s \\u00e1tlagos el\\u0151z\\u0151 heti \\u00f3r\\u00e1nk\\u00e9nti eloszl\\u00e1sa\", \"x\": 0.45, \"xanchor\": \"center\", \"y\": 0.88}, \"xaxis\": {\"title\": {\"text\": \"\\u00d3r\\u00e1nk\\u00e9nti l\\u00e1togat\\u00f3sz\\u00e1m\"}}, \"yaxis\": {\"title\": {\"text\": \"y Axis Title\"}}},\n",
       "                        {\"responsive\": true}\n",
       "                    ).then(function(){\n",
       "                            \n",
       "var gd = document.getElementById('be758613-da43-4fe5-b1c2-33a00da34a30');\n",
       "var x = new MutationObserver(function (mutations, observer) {{\n",
       "        var display = window.getComputedStyle(gd).display;\n",
       "        if (!display || display === 'none') {{\n",
       "            console.log([gd, 'removed!']);\n",
       "            Plotly.purge(gd);\n",
       "            observer.disconnect();\n",
       "        }}\n",
       "}});\n",
       "\n",
       "// Listen for the removal of the full notebook cells\n",
       "var notebookContainer = gd.closest('#notebook-container');\n",
       "if (notebookContainer) {{\n",
       "    x.observe(notebookContainer, {childList: true});\n",
       "}}\n",
       "\n",
       "// Listen for the clearing of the current output cell\n",
       "var outputEl = gd.closest('.output');\n",
       "if (outputEl) {{\n",
       "    x.observe(outputEl, {childList: true});\n",
       "}}\n",
       "\n",
       "                        })\n",
       "                };\n",
       "                });\n",
       "            </script>\n",
       "        </div>"
      ]
     },
     "metadata": {},
     "output_type": "display_data"
    }
   ],
   "source": [
    "figure1 = go.Figure(\n",
    "    data=[\n",
    "        go.Bar(\n",
    "            name=\"Átlagos heti látogatószám\",\n",
    "            x=gdf_combined_aggregated_filtered[\"Vérmezõ\"].index,\n",
    "            y=gdf_combined_aggregated_filtered[\"Vérmezõ\"],\n",
    "            marker_color='darkblue'\n",
    "        ),\n",
    "        go.Bar(\n",
    "            name=\"Előző napi látogató szám\",\n",
    "            x=gdf_combined_filtered[\"Vérmezõ\"].index,\n",
    "            y=gdf_combined_filtered[\"Vérmezõ\"],\n",
    "            marker_color='darkgreen'\n",
    "        ),\n",
    "    ]\n",
    ")\n",
    "\n",
    "figure1.update_layout(\n",
    "    title={'text':\"Látogatók számának előző napi és átlagos előző heti óránkénti eloszlása\",'y':0.88,\n",
    "        'x':0.45,\n",
    "           'xanchor': 'center'},\n",
    "    xaxis_title=\"Óránkénti látogatószám\",\n",
    "    yaxis_title=\"y Axis Title\",\n",
    "    font=dict(\n",
    "        #family=\"Courier New, monospace\",\n",
    "        size=12,\n",
    "        color=\"#7f7f7f\"\n",
    "    ),\n",
    "    plot_bgcolor='rgba(0,0,0,0)',\n",
    "    legend=dict(\n",
    "        x=0,\n",
    "        y=1,)\n",
    ")"
   ]
  },
  {
   "cell_type": "code",
   "execution_count": 57,
   "metadata": {},
   "outputs": [],
   "source": [
    "def figure2():\n",
    "    start_date = date.fromisoformat(\"2020-06-05\")  # this is the day of the first data\n",
    "    today = date.today()\n",
    "    day_since_start = (today - start_date).days\n",
    "    avg_visitors = []\n",
    "    load = False\n",
    "    while load == False:\n",
    "        try:\n",
    "            mean_visitors = pd.read_excel(\n",
    "                r\"C:\\Users\\T440s\\Google Drive\\rajk\\rajkos_kurzusok\\prog2\\PROJECT\\data\\test\\test{}.xlsx\".format(\n",
    "                    day_since_start\n",
    "                )\n",
    "            )\n",
    "            mean_visitors['{}. nap'.format(day_since_start)] = mean_visitors.iloc[:,4:].mean(axis=1).round(0)\n",
    "            mean_visitors = mean_visitors.set_index('Nev').iloc[:,-1:]\n",
    "            load = True\n",
    "        except FileNotFoundError:\n",
    "            day_since_start -= 1\n",
    "    for data in range(day_since_start-7, day_since_start): \n",
    "        try:\n",
    "            read_new = pd.read_excel(\n",
    "                r\"C:\\Users\\T440s\\Google Drive\\rajk\\rajkos_kurzusok\\prog2\\PROJECT\\data\\test\\test{}.xlsx\".format(\n",
    "                    data\n",
    "                )\n",
    "            )\n",
    "            read_new['{}. nap'.format(data)] = read_new.iloc[:,4:].mean(axis=1).round(0)\n",
    "            read_new = read_new.set_index('Nev').iloc[:,-1:]\n",
    "            mean_visitors = mean_visitors.merge(read_new, right_index=True, left_index=True)\n",
    "            \n",
    "        except FileNotFoundError:\n",
    "            pass\n",
    "    mean_visitors = mean_visitors.T.sort_index()\n",
    "    return mean_visitors\n",
    "\n",
    "mean_visitors = figure2()"
   ]
  },
  {
   "cell_type": "code",
   "execution_count": 58,
   "metadata": {},
   "outputs": [
    {
     "data": {
      "text/html": [
       "<div>\n",
       "<style scoped>\n",
       "    .dataframe tbody tr th:only-of-type {\n",
       "        vertical-align: middle;\n",
       "    }\n",
       "\n",
       "    .dataframe tbody tr th {\n",
       "        vertical-align: top;\n",
       "    }\n",
       "\n",
       "    .dataframe thead th {\n",
       "        text-align: right;\n",
       "    }\n",
       "</style>\n",
       "<table border=\"1\" class=\"dataframe\">\n",
       "  <thead>\n",
       "    <tr style=\"text-align: right;\">\n",
       "      <th>Nev</th>\n",
       "      <th>525. tér</th>\n",
       "      <th>Abádi tér</th>\n",
       "      <th>Ady Endre tér</th>\n",
       "      <th>Ady liget</th>\n",
       "      <th>Ajtony utcai park</th>\n",
       "      <th>Akácfa utcai vizes játszótér</th>\n",
       "      <th>Alacska úti játszótér</th>\n",
       "      <th>Alacskai úti park</th>\n",
       "      <th>Aladár utcai játszótér</th>\n",
       "      <th>Almássy tér</th>\n",
       "      <th>...</th>\n",
       "      <th>Õrjáró tér</th>\n",
       "      <th>Ördögorom</th>\n",
       "      <th>Örs vezér tere</th>\n",
       "      <th>Ötvenhatosok tere</th>\n",
       "      <th>Új vidék tér</th>\n",
       "      <th>Újbuda központ</th>\n",
       "      <th>Újpalotai Fõ tér</th>\n",
       "      <th>Újpest Városkapu</th>\n",
       "      <th>Újpest Városközpont</th>\n",
       "      <th>Újpesti víztorony melletti zöldterület</th>\n",
       "    </tr>\n",
       "  </thead>\n",
       "  <tbody>\n",
       "    <tr>\n",
       "      <th>1. nap</th>\n",
       "      <td>5003.0</td>\n",
       "      <td>4547.0</td>\n",
       "      <td>4830.0</td>\n",
       "      <td>5763.0</td>\n",
       "      <td>4203.0</td>\n",
       "      <td>4442.0</td>\n",
       "      <td>5058.0</td>\n",
       "      <td>4417.0</td>\n",
       "      <td>4613.0</td>\n",
       "      <td>5269.0</td>\n",
       "      <td>...</td>\n",
       "      <td>4965.0</td>\n",
       "      <td>5085.0</td>\n",
       "      <td>4653.0</td>\n",
       "      <td>4199.0</td>\n",
       "      <td>5693.0</td>\n",
       "      <td>4414.0</td>\n",
       "      <td>5005.0</td>\n",
       "      <td>4606.0</td>\n",
       "      <td>5588.0</td>\n",
       "      <td>4682.0</td>\n",
       "    </tr>\n",
       "    <tr>\n",
       "      <th>2. nap</th>\n",
       "      <td>5264.0</td>\n",
       "      <td>3907.0</td>\n",
       "      <td>4953.0</td>\n",
       "      <td>4944.0</td>\n",
       "      <td>5803.0</td>\n",
       "      <td>4455.0</td>\n",
       "      <td>5056.0</td>\n",
       "      <td>4948.0</td>\n",
       "      <td>4235.0</td>\n",
       "      <td>5315.0</td>\n",
       "      <td>...</td>\n",
       "      <td>4653.0</td>\n",
       "      <td>4587.0</td>\n",
       "      <td>4720.0</td>\n",
       "      <td>5855.0</td>\n",
       "      <td>3796.0</td>\n",
       "      <td>3909.0</td>\n",
       "      <td>4426.0</td>\n",
       "      <td>4144.0</td>\n",
       "      <td>4883.0</td>\n",
       "      <td>5298.0</td>\n",
       "    </tr>\n",
       "    <tr>\n",
       "      <th>3. nap</th>\n",
       "      <td>4153.0</td>\n",
       "      <td>5378.0</td>\n",
       "      <td>5288.0</td>\n",
       "      <td>5360.0</td>\n",
       "      <td>4630.0</td>\n",
       "      <td>4967.0</td>\n",
       "      <td>4169.0</td>\n",
       "      <td>5224.0</td>\n",
       "      <td>4464.0</td>\n",
       "      <td>6136.0</td>\n",
       "      <td>...</td>\n",
       "      <td>4642.0</td>\n",
       "      <td>6091.0</td>\n",
       "      <td>4249.0</td>\n",
       "      <td>4521.0</td>\n",
       "      <td>4673.0</td>\n",
       "      <td>5146.0</td>\n",
       "      <td>5160.0</td>\n",
       "      <td>4266.0</td>\n",
       "      <td>4667.0</td>\n",
       "      <td>4949.0</td>\n",
       "    </tr>\n",
       "    <tr>\n",
       "      <th>4. nap</th>\n",
       "      <td>5377.0</td>\n",
       "      <td>3758.0</td>\n",
       "      <td>6455.0</td>\n",
       "      <td>4524.0</td>\n",
       "      <td>5033.0</td>\n",
       "      <td>5623.0</td>\n",
       "      <td>3259.0</td>\n",
       "      <td>5228.0</td>\n",
       "      <td>6011.0</td>\n",
       "      <td>4454.0</td>\n",
       "      <td>...</td>\n",
       "      <td>4311.0</td>\n",
       "      <td>5010.0</td>\n",
       "      <td>4802.0</td>\n",
       "      <td>5955.0</td>\n",
       "      <td>4854.0</td>\n",
       "      <td>4809.0</td>\n",
       "      <td>4718.0</td>\n",
       "      <td>5666.0</td>\n",
       "      <td>5439.0</td>\n",
       "      <td>4766.0</td>\n",
       "    </tr>\n",
       "    <tr>\n",
       "      <th>5. nap</th>\n",
       "      <td>4887.0</td>\n",
       "      <td>4964.0</td>\n",
       "      <td>5473.0</td>\n",
       "      <td>4866.0</td>\n",
       "      <td>5542.0</td>\n",
       "      <td>5390.0</td>\n",
       "      <td>5441.0</td>\n",
       "      <td>4283.0</td>\n",
       "      <td>4960.0</td>\n",
       "      <td>5551.0</td>\n",
       "      <td>...</td>\n",
       "      <td>5564.0</td>\n",
       "      <td>4775.0</td>\n",
       "      <td>5208.0</td>\n",
       "      <td>5356.0</td>\n",
       "      <td>5588.0</td>\n",
       "      <td>5115.0</td>\n",
       "      <td>4691.0</td>\n",
       "      <td>4901.0</td>\n",
       "      <td>4098.0</td>\n",
       "      <td>5950.0</td>\n",
       "    </tr>\n",
       "  </tbody>\n",
       "</table>\n",
       "<p>5 rows × 666 columns</p>\n",
       "</div>"
      ],
      "text/plain": [
       "Nev     525. tér  Abádi tér  Ady Endre tér  Ady liget  Ajtony utcai park  \\\n",
       "1. nap    5003.0     4547.0         4830.0     5763.0             4203.0   \n",
       "2. nap    5264.0     3907.0         4953.0     4944.0             5803.0   \n",
       "3. nap    4153.0     5378.0         5288.0     5360.0             4630.0   \n",
       "4. nap    5377.0     3758.0         6455.0     4524.0             5033.0   \n",
       "5. nap    4887.0     4964.0         5473.0     4866.0             5542.0   \n",
       "\n",
       "Nev     Akácfa utcai vizes játszótér  Alacska úti játszótér  \\\n",
       "1. nap                        4442.0                 5058.0   \n",
       "2. nap                        4455.0                 5056.0   \n",
       "3. nap                        4967.0                 4169.0   \n",
       "4. nap                        5623.0                 3259.0   \n",
       "5. nap                        5390.0                 5441.0   \n",
       "\n",
       "Nev     Alacskai úti park  Aladár utcai játszótér  Almássy tér  ...  \\\n",
       "1. nap             4417.0                  4613.0       5269.0  ...   \n",
       "2. nap             4948.0                  4235.0       5315.0  ...   \n",
       "3. nap             5224.0                  4464.0       6136.0  ...   \n",
       "4. nap             5228.0                  6011.0       4454.0  ...   \n",
       "5. nap             4283.0                  4960.0       5551.0  ...   \n",
       "\n",
       "Nev     Õrjáró tér  Ördögorom  Örs vezér tere  Ötvenhatosok tere  \\\n",
       "1. nap      4965.0     5085.0          4653.0             4199.0   \n",
       "2. nap      4653.0     4587.0          4720.0             5855.0   \n",
       "3. nap      4642.0     6091.0          4249.0             4521.0   \n",
       "4. nap      4311.0     5010.0          4802.0             5955.0   \n",
       "5. nap      5564.0     4775.0          5208.0             5356.0   \n",
       "\n",
       "Nev     Új vidék tér  Újbuda központ  Újpalotai Fõ tér  Újpest Városkapu  \\\n",
       "1. nap        5693.0          4414.0            5005.0            4606.0   \n",
       "2. nap        3796.0          3909.0            4426.0            4144.0   \n",
       "3. nap        4673.0          5146.0            5160.0            4266.0   \n",
       "4. nap        4854.0          4809.0            4718.0            5666.0   \n",
       "5. nap        5588.0          5115.0            4691.0            4901.0   \n",
       "\n",
       "Nev     Újpest Városközpont  Újpesti víztorony melletti zöldterület  \n",
       "1. nap               5588.0                                  4682.0  \n",
       "2. nap               4883.0                                  5298.0  \n",
       "3. nap               4667.0                                  4949.0  \n",
       "4. nap               5439.0                                  4766.0  \n",
       "5. nap               4098.0                                  5950.0  \n",
       "\n",
       "[5 rows x 666 columns]"
      ]
     },
     "execution_count": 58,
     "metadata": {},
     "output_type": "execute_result"
    }
   ],
   "source": [
    "mean_visitors"
   ]
  },
  {
   "cell_type": "code",
   "execution_count": 69,
   "metadata": {},
   "outputs": [
    {
     "data": {
      "application/vnd.plotly.v1+json": {
       "config": {
        "plotlyServerURL": "https://plot.ly"
       },
       "data": [
        {
         "marker": {
          "color": "darkblue"
         },
         "name": "Átlagos heti látogatószám",
         "type": "scatter",
         "x": [
          "1. nap",
          "2. nap",
          "3. nap",
          "4. nap",
          "5. nap"
         ],
         "y": [
          4116,
          4644,
          5141,
          5309,
          5428
         ]
        }
       ],
       "layout": {
        "font": {
         "size": 12
        },
        "legend": {
         "x": 0,
         "y": 1
        },
        "plot_bgcolor": "rgba(0,0,0,0)",
        "template": {
         "data": {
          "bar": [
           {
            "error_x": {
             "color": "#2a3f5f"
            },
            "error_y": {
             "color": "#2a3f5f"
            },
            "marker": {
             "line": {
              "color": "#E5ECF6",
              "width": 0.5
             }
            },
            "type": "bar"
           }
          ],
          "barpolar": [
           {
            "marker": {
             "line": {
              "color": "#E5ECF6",
              "width": 0.5
             }
            },
            "type": "barpolar"
           }
          ],
          "carpet": [
           {
            "aaxis": {
             "endlinecolor": "#2a3f5f",
             "gridcolor": "white",
             "linecolor": "white",
             "minorgridcolor": "white",
             "startlinecolor": "#2a3f5f"
            },
            "baxis": {
             "endlinecolor": "#2a3f5f",
             "gridcolor": "white",
             "linecolor": "white",
             "minorgridcolor": "white",
             "startlinecolor": "#2a3f5f"
            },
            "type": "carpet"
           }
          ],
          "choropleth": [
           {
            "colorbar": {
             "outlinewidth": 0,
             "ticks": ""
            },
            "type": "choropleth"
           }
          ],
          "contour": [
           {
            "colorbar": {
             "outlinewidth": 0,
             "ticks": ""
            },
            "colorscale": [
             [
              0,
              "#0d0887"
             ],
             [
              0.1111111111111111,
              "#46039f"
             ],
             [
              0.2222222222222222,
              "#7201a8"
             ],
             [
              0.3333333333333333,
              "#9c179e"
             ],
             [
              0.4444444444444444,
              "#bd3786"
             ],
             [
              0.5555555555555556,
              "#d8576b"
             ],
             [
              0.6666666666666666,
              "#ed7953"
             ],
             [
              0.7777777777777778,
              "#fb9f3a"
             ],
             [
              0.8888888888888888,
              "#fdca26"
             ],
             [
              1,
              "#f0f921"
             ]
            ],
            "type": "contour"
           }
          ],
          "contourcarpet": [
           {
            "colorbar": {
             "outlinewidth": 0,
             "ticks": ""
            },
            "type": "contourcarpet"
           }
          ],
          "heatmap": [
           {
            "colorbar": {
             "outlinewidth": 0,
             "ticks": ""
            },
            "colorscale": [
             [
              0,
              "#0d0887"
             ],
             [
              0.1111111111111111,
              "#46039f"
             ],
             [
              0.2222222222222222,
              "#7201a8"
             ],
             [
              0.3333333333333333,
              "#9c179e"
             ],
             [
              0.4444444444444444,
              "#bd3786"
             ],
             [
              0.5555555555555556,
              "#d8576b"
             ],
             [
              0.6666666666666666,
              "#ed7953"
             ],
             [
              0.7777777777777778,
              "#fb9f3a"
             ],
             [
              0.8888888888888888,
              "#fdca26"
             ],
             [
              1,
              "#f0f921"
             ]
            ],
            "type": "heatmap"
           }
          ],
          "heatmapgl": [
           {
            "colorbar": {
             "outlinewidth": 0,
             "ticks": ""
            },
            "colorscale": [
             [
              0,
              "#0d0887"
             ],
             [
              0.1111111111111111,
              "#46039f"
             ],
             [
              0.2222222222222222,
              "#7201a8"
             ],
             [
              0.3333333333333333,
              "#9c179e"
             ],
             [
              0.4444444444444444,
              "#bd3786"
             ],
             [
              0.5555555555555556,
              "#d8576b"
             ],
             [
              0.6666666666666666,
              "#ed7953"
             ],
             [
              0.7777777777777778,
              "#fb9f3a"
             ],
             [
              0.8888888888888888,
              "#fdca26"
             ],
             [
              1,
              "#f0f921"
             ]
            ],
            "type": "heatmapgl"
           }
          ],
          "histogram": [
           {
            "marker": {
             "colorbar": {
              "outlinewidth": 0,
              "ticks": ""
             }
            },
            "type": "histogram"
           }
          ],
          "histogram2d": [
           {
            "colorbar": {
             "outlinewidth": 0,
             "ticks": ""
            },
            "colorscale": [
             [
              0,
              "#0d0887"
             ],
             [
              0.1111111111111111,
              "#46039f"
             ],
             [
              0.2222222222222222,
              "#7201a8"
             ],
             [
              0.3333333333333333,
              "#9c179e"
             ],
             [
              0.4444444444444444,
              "#bd3786"
             ],
             [
              0.5555555555555556,
              "#d8576b"
             ],
             [
              0.6666666666666666,
              "#ed7953"
             ],
             [
              0.7777777777777778,
              "#fb9f3a"
             ],
             [
              0.8888888888888888,
              "#fdca26"
             ],
             [
              1,
              "#f0f921"
             ]
            ],
            "type": "histogram2d"
           }
          ],
          "histogram2dcontour": [
           {
            "colorbar": {
             "outlinewidth": 0,
             "ticks": ""
            },
            "colorscale": [
             [
              0,
              "#0d0887"
             ],
             [
              0.1111111111111111,
              "#46039f"
             ],
             [
              0.2222222222222222,
              "#7201a8"
             ],
             [
              0.3333333333333333,
              "#9c179e"
             ],
             [
              0.4444444444444444,
              "#bd3786"
             ],
             [
              0.5555555555555556,
              "#d8576b"
             ],
             [
              0.6666666666666666,
              "#ed7953"
             ],
             [
              0.7777777777777778,
              "#fb9f3a"
             ],
             [
              0.8888888888888888,
              "#fdca26"
             ],
             [
              1,
              "#f0f921"
             ]
            ],
            "type": "histogram2dcontour"
           }
          ],
          "mesh3d": [
           {
            "colorbar": {
             "outlinewidth": 0,
             "ticks": ""
            },
            "type": "mesh3d"
           }
          ],
          "parcoords": [
           {
            "line": {
             "colorbar": {
              "outlinewidth": 0,
              "ticks": ""
             }
            },
            "type": "parcoords"
           }
          ],
          "pie": [
           {
            "automargin": true,
            "type": "pie"
           }
          ],
          "scatter": [
           {
            "marker": {
             "colorbar": {
              "outlinewidth": 0,
              "ticks": ""
             }
            },
            "type": "scatter"
           }
          ],
          "scatter3d": [
           {
            "line": {
             "colorbar": {
              "outlinewidth": 0,
              "ticks": ""
             }
            },
            "marker": {
             "colorbar": {
              "outlinewidth": 0,
              "ticks": ""
             }
            },
            "type": "scatter3d"
           }
          ],
          "scattercarpet": [
           {
            "marker": {
             "colorbar": {
              "outlinewidth": 0,
              "ticks": ""
             }
            },
            "type": "scattercarpet"
           }
          ],
          "scattergeo": [
           {
            "marker": {
             "colorbar": {
              "outlinewidth": 0,
              "ticks": ""
             }
            },
            "type": "scattergeo"
           }
          ],
          "scattergl": [
           {
            "marker": {
             "colorbar": {
              "outlinewidth": 0,
              "ticks": ""
             }
            },
            "type": "scattergl"
           }
          ],
          "scattermapbox": [
           {
            "marker": {
             "colorbar": {
              "outlinewidth": 0,
              "ticks": ""
             }
            },
            "type": "scattermapbox"
           }
          ],
          "scatterpolar": [
           {
            "marker": {
             "colorbar": {
              "outlinewidth": 0,
              "ticks": ""
             }
            },
            "type": "scatterpolar"
           }
          ],
          "scatterpolargl": [
           {
            "marker": {
             "colorbar": {
              "outlinewidth": 0,
              "ticks": ""
             }
            },
            "type": "scatterpolargl"
           }
          ],
          "scatterternary": [
           {
            "marker": {
             "colorbar": {
              "outlinewidth": 0,
              "ticks": ""
             }
            },
            "type": "scatterternary"
           }
          ],
          "surface": [
           {
            "colorbar": {
             "outlinewidth": 0,
             "ticks": ""
            },
            "colorscale": [
             [
              0,
              "#0d0887"
             ],
             [
              0.1111111111111111,
              "#46039f"
             ],
             [
              0.2222222222222222,
              "#7201a8"
             ],
             [
              0.3333333333333333,
              "#9c179e"
             ],
             [
              0.4444444444444444,
              "#bd3786"
             ],
             [
              0.5555555555555556,
              "#d8576b"
             ],
             [
              0.6666666666666666,
              "#ed7953"
             ],
             [
              0.7777777777777778,
              "#fb9f3a"
             ],
             [
              0.8888888888888888,
              "#fdca26"
             ],
             [
              1,
              "#f0f921"
             ]
            ],
            "type": "surface"
           }
          ],
          "table": [
           {
            "cells": {
             "fill": {
              "color": "#EBF0F8"
             },
             "line": {
              "color": "white"
             }
            },
            "header": {
             "fill": {
              "color": "#C8D4E3"
             },
             "line": {
              "color": "white"
             }
            },
            "type": "table"
           }
          ]
         },
         "layout": {
          "annotationdefaults": {
           "arrowcolor": "#2a3f5f",
           "arrowhead": 0,
           "arrowwidth": 1
          },
          "coloraxis": {
           "colorbar": {
            "outlinewidth": 0,
            "ticks": ""
           }
          },
          "colorscale": {
           "diverging": [
            [
             0,
             "#8e0152"
            ],
            [
             0.1,
             "#c51b7d"
            ],
            [
             0.2,
             "#de77ae"
            ],
            [
             0.3,
             "#f1b6da"
            ],
            [
             0.4,
             "#fde0ef"
            ],
            [
             0.5,
             "#f7f7f7"
            ],
            [
             0.6,
             "#e6f5d0"
            ],
            [
             0.7,
             "#b8e186"
            ],
            [
             0.8,
             "#7fbc41"
            ],
            [
             0.9,
             "#4d9221"
            ],
            [
             1,
             "#276419"
            ]
           ],
           "sequential": [
            [
             0,
             "#0d0887"
            ],
            [
             0.1111111111111111,
             "#46039f"
            ],
            [
             0.2222222222222222,
             "#7201a8"
            ],
            [
             0.3333333333333333,
             "#9c179e"
            ],
            [
             0.4444444444444444,
             "#bd3786"
            ],
            [
             0.5555555555555556,
             "#d8576b"
            ],
            [
             0.6666666666666666,
             "#ed7953"
            ],
            [
             0.7777777777777778,
             "#fb9f3a"
            ],
            [
             0.8888888888888888,
             "#fdca26"
            ],
            [
             1,
             "#f0f921"
            ]
           ],
           "sequentialminus": [
            [
             0,
             "#0d0887"
            ],
            [
             0.1111111111111111,
             "#46039f"
            ],
            [
             0.2222222222222222,
             "#7201a8"
            ],
            [
             0.3333333333333333,
             "#9c179e"
            ],
            [
             0.4444444444444444,
             "#bd3786"
            ],
            [
             0.5555555555555556,
             "#d8576b"
            ],
            [
             0.6666666666666666,
             "#ed7953"
            ],
            [
             0.7777777777777778,
             "#fb9f3a"
            ],
            [
             0.8888888888888888,
             "#fdca26"
            ],
            [
             1,
             "#f0f921"
            ]
           ]
          },
          "colorway": [
           "#636efa",
           "#EF553B",
           "#00cc96",
           "#ab63fa",
           "#FFA15A",
           "#19d3f3",
           "#FF6692",
           "#B6E880",
           "#FF97FF",
           "#FECB52"
          ],
          "font": {
           "color": "#2a3f5f"
          },
          "geo": {
           "bgcolor": "white",
           "lakecolor": "white",
           "landcolor": "#E5ECF6",
           "showlakes": true,
           "showland": true,
           "subunitcolor": "white"
          },
          "hoverlabel": {
           "align": "left"
          },
          "hovermode": "closest",
          "mapbox": {
           "style": "light"
          },
          "paper_bgcolor": "white",
          "plot_bgcolor": "#E5ECF6",
          "polar": {
           "angularaxis": {
            "gridcolor": "white",
            "linecolor": "white",
            "ticks": ""
           },
           "bgcolor": "#E5ECF6",
           "radialaxis": {
            "gridcolor": "white",
            "linecolor": "white",
            "ticks": ""
           }
          },
          "scene": {
           "xaxis": {
            "backgroundcolor": "#E5ECF6",
            "gridcolor": "white",
            "gridwidth": 2,
            "linecolor": "white",
            "showbackground": true,
            "ticks": "",
            "zerolinecolor": "white"
           },
           "yaxis": {
            "backgroundcolor": "#E5ECF6",
            "gridcolor": "white",
            "gridwidth": 2,
            "linecolor": "white",
            "showbackground": true,
            "ticks": "",
            "zerolinecolor": "white"
           },
           "zaxis": {
            "backgroundcolor": "#E5ECF6",
            "gridcolor": "white",
            "gridwidth": 2,
            "linecolor": "white",
            "showbackground": true,
            "ticks": "",
            "zerolinecolor": "white"
           }
          },
          "shapedefaults": {
           "line": {
            "color": "#2a3f5f"
           }
          },
          "ternary": {
           "aaxis": {
            "gridcolor": "white",
            "linecolor": "white",
            "ticks": ""
           },
           "baxis": {
            "gridcolor": "white",
            "linecolor": "white",
            "ticks": ""
           },
           "bgcolor": "#E5ECF6",
           "caxis": {
            "gridcolor": "white",
            "linecolor": "white",
            "ticks": ""
           }
          },
          "title": {
           "x": 0.05
          },
          "xaxis": {
           "automargin": true,
           "gridcolor": "white",
           "linecolor": "white",
           "ticks": "",
           "title": {
            "standoff": 15
           },
           "zerolinecolor": "white",
           "zerolinewidth": 2
          },
          "yaxis": {
           "automargin": true,
           "gridcolor": "white",
           "linecolor": "white",
           "ticks": "",
           "title": {
            "standoff": 15
           },
           "zerolinecolor": "white",
           "zerolinewidth": 2
          }
         }
        },
        "title": {
         "text": "Az előző hét napi átlagos látogatószáma",
         "x": 0.45,
         "xanchor": "center",
         "y": 0.88
        },
        "xaxis": {
         "title": {
          "text": "Átlagos látogatószám"
         }
        },
        "yaxis": {
         "title": {
          "text": "Vérmezõ"
         }
        }
       }
      },
      "text/html": [
       "<div>\n",
       "        \n",
       "        \n",
       "            <div id=\"5ed9a893-86d9-4e7a-8012-87a7d4709398\" class=\"plotly-graph-div\" style=\"height:525px; width:100%;\"></div>\n",
       "            <script type=\"text/javascript\">\n",
       "                require([\"plotly\"], function(Plotly) {\n",
       "                    window.PLOTLYENV=window.PLOTLYENV || {};\n",
       "                    \n",
       "                if (document.getElementById(\"5ed9a893-86d9-4e7a-8012-87a7d4709398\")) {\n",
       "                    Plotly.newPlot(\n",
       "                        '5ed9a893-86d9-4e7a-8012-87a7d4709398',\n",
       "                        [{\"marker\": {\"color\": \"darkblue\"}, \"name\": \"\\u00c1tlagos heti l\\u00e1togat\\u00f3sz\\u00e1m\", \"type\": \"scatter\", \"x\": [\"1. nap\", \"2. nap\", \"3. nap\", \"4. nap\", \"5. nap\"], \"y\": [4116.0, 4644.0, 5141.0, 5309.0, 5428.0]}],\n",
       "                        {\"font\": {\"size\": 12}, \"legend\": {\"x\": 0, \"y\": 1}, \"plot_bgcolor\": \"rgba(0,0,0,0)\", \"template\": {\"data\": {\"bar\": [{\"error_x\": {\"color\": \"#2a3f5f\"}, \"error_y\": {\"color\": \"#2a3f5f\"}, \"marker\": {\"line\": {\"color\": \"#E5ECF6\", \"width\": 0.5}}, \"type\": \"bar\"}], \"barpolar\": [{\"marker\": {\"line\": {\"color\": \"#E5ECF6\", \"width\": 0.5}}, \"type\": \"barpolar\"}], \"carpet\": [{\"aaxis\": {\"endlinecolor\": \"#2a3f5f\", \"gridcolor\": \"white\", \"linecolor\": \"white\", \"minorgridcolor\": \"white\", \"startlinecolor\": \"#2a3f5f\"}, \"baxis\": {\"endlinecolor\": \"#2a3f5f\", \"gridcolor\": \"white\", \"linecolor\": \"white\", \"minorgridcolor\": \"white\", \"startlinecolor\": \"#2a3f5f\"}, \"type\": \"carpet\"}], \"choropleth\": [{\"colorbar\": {\"outlinewidth\": 0, \"ticks\": \"\"}, \"type\": \"choropleth\"}], \"contour\": [{\"colorbar\": {\"outlinewidth\": 0, \"ticks\": \"\"}, \"colorscale\": [[0.0, \"#0d0887\"], [0.1111111111111111, \"#46039f\"], [0.2222222222222222, \"#7201a8\"], [0.3333333333333333, \"#9c179e\"], [0.4444444444444444, \"#bd3786\"], [0.5555555555555556, \"#d8576b\"], [0.6666666666666666, \"#ed7953\"], [0.7777777777777778, \"#fb9f3a\"], [0.8888888888888888, \"#fdca26\"], [1.0, \"#f0f921\"]], \"type\": \"contour\"}], \"contourcarpet\": [{\"colorbar\": {\"outlinewidth\": 0, \"ticks\": \"\"}, \"type\": \"contourcarpet\"}], \"heatmap\": [{\"colorbar\": {\"outlinewidth\": 0, \"ticks\": \"\"}, \"colorscale\": [[0.0, \"#0d0887\"], [0.1111111111111111, \"#46039f\"], [0.2222222222222222, \"#7201a8\"], [0.3333333333333333, \"#9c179e\"], [0.4444444444444444, \"#bd3786\"], [0.5555555555555556, \"#d8576b\"], [0.6666666666666666, \"#ed7953\"], [0.7777777777777778, \"#fb9f3a\"], [0.8888888888888888, \"#fdca26\"], [1.0, \"#f0f921\"]], \"type\": \"heatmap\"}], \"heatmapgl\": [{\"colorbar\": {\"outlinewidth\": 0, \"ticks\": \"\"}, \"colorscale\": [[0.0, \"#0d0887\"], [0.1111111111111111, \"#46039f\"], [0.2222222222222222, \"#7201a8\"], [0.3333333333333333, \"#9c179e\"], [0.4444444444444444, \"#bd3786\"], [0.5555555555555556, \"#d8576b\"], [0.6666666666666666, \"#ed7953\"], [0.7777777777777778, \"#fb9f3a\"], [0.8888888888888888, \"#fdca26\"], [1.0, \"#f0f921\"]], \"type\": \"heatmapgl\"}], \"histogram\": [{\"marker\": {\"colorbar\": {\"outlinewidth\": 0, \"ticks\": \"\"}}, \"type\": \"histogram\"}], \"histogram2d\": [{\"colorbar\": {\"outlinewidth\": 0, \"ticks\": \"\"}, \"colorscale\": [[0.0, \"#0d0887\"], [0.1111111111111111, \"#46039f\"], [0.2222222222222222, \"#7201a8\"], [0.3333333333333333, \"#9c179e\"], [0.4444444444444444, \"#bd3786\"], [0.5555555555555556, \"#d8576b\"], [0.6666666666666666, \"#ed7953\"], [0.7777777777777778, \"#fb9f3a\"], [0.8888888888888888, \"#fdca26\"], [1.0, \"#f0f921\"]], \"type\": \"histogram2d\"}], \"histogram2dcontour\": [{\"colorbar\": {\"outlinewidth\": 0, \"ticks\": \"\"}, \"colorscale\": [[0.0, \"#0d0887\"], [0.1111111111111111, \"#46039f\"], [0.2222222222222222, \"#7201a8\"], [0.3333333333333333, \"#9c179e\"], [0.4444444444444444, \"#bd3786\"], [0.5555555555555556, \"#d8576b\"], [0.6666666666666666, \"#ed7953\"], [0.7777777777777778, \"#fb9f3a\"], [0.8888888888888888, \"#fdca26\"], [1.0, \"#f0f921\"]], \"type\": \"histogram2dcontour\"}], \"mesh3d\": [{\"colorbar\": {\"outlinewidth\": 0, \"ticks\": \"\"}, \"type\": \"mesh3d\"}], \"parcoords\": [{\"line\": {\"colorbar\": {\"outlinewidth\": 0, \"ticks\": \"\"}}, \"type\": \"parcoords\"}], \"pie\": [{\"automargin\": true, \"type\": \"pie\"}], \"scatter\": [{\"marker\": {\"colorbar\": {\"outlinewidth\": 0, \"ticks\": \"\"}}, \"type\": \"scatter\"}], \"scatter3d\": [{\"line\": {\"colorbar\": {\"outlinewidth\": 0, \"ticks\": \"\"}}, \"marker\": {\"colorbar\": {\"outlinewidth\": 0, \"ticks\": \"\"}}, \"type\": \"scatter3d\"}], \"scattercarpet\": [{\"marker\": {\"colorbar\": {\"outlinewidth\": 0, \"ticks\": \"\"}}, \"type\": \"scattercarpet\"}], \"scattergeo\": [{\"marker\": {\"colorbar\": {\"outlinewidth\": 0, \"ticks\": \"\"}}, \"type\": \"scattergeo\"}], \"scattergl\": [{\"marker\": {\"colorbar\": {\"outlinewidth\": 0, \"ticks\": \"\"}}, \"type\": \"scattergl\"}], \"scattermapbox\": [{\"marker\": {\"colorbar\": {\"outlinewidth\": 0, \"ticks\": \"\"}}, \"type\": \"scattermapbox\"}], \"scatterpolar\": [{\"marker\": {\"colorbar\": {\"outlinewidth\": 0, \"ticks\": \"\"}}, \"type\": \"scatterpolar\"}], \"scatterpolargl\": [{\"marker\": {\"colorbar\": {\"outlinewidth\": 0, \"ticks\": \"\"}}, \"type\": \"scatterpolargl\"}], \"scatterternary\": [{\"marker\": {\"colorbar\": {\"outlinewidth\": 0, \"ticks\": \"\"}}, \"type\": \"scatterternary\"}], \"surface\": [{\"colorbar\": {\"outlinewidth\": 0, \"ticks\": \"\"}, \"colorscale\": [[0.0, \"#0d0887\"], [0.1111111111111111, \"#46039f\"], [0.2222222222222222, \"#7201a8\"], [0.3333333333333333, \"#9c179e\"], [0.4444444444444444, \"#bd3786\"], [0.5555555555555556, \"#d8576b\"], [0.6666666666666666, \"#ed7953\"], [0.7777777777777778, \"#fb9f3a\"], [0.8888888888888888, \"#fdca26\"], [1.0, \"#f0f921\"]], \"type\": \"surface\"}], \"table\": [{\"cells\": {\"fill\": {\"color\": \"#EBF0F8\"}, \"line\": {\"color\": \"white\"}}, \"header\": {\"fill\": {\"color\": \"#C8D4E3\"}, \"line\": {\"color\": \"white\"}}, \"type\": \"table\"}]}, \"layout\": {\"annotationdefaults\": {\"arrowcolor\": \"#2a3f5f\", \"arrowhead\": 0, \"arrowwidth\": 1}, \"coloraxis\": {\"colorbar\": {\"outlinewidth\": 0, \"ticks\": \"\"}}, \"colorscale\": {\"diverging\": [[0, \"#8e0152\"], [0.1, \"#c51b7d\"], [0.2, \"#de77ae\"], [0.3, \"#f1b6da\"], [0.4, \"#fde0ef\"], [0.5, \"#f7f7f7\"], [0.6, \"#e6f5d0\"], [0.7, \"#b8e186\"], [0.8, \"#7fbc41\"], [0.9, \"#4d9221\"], [1, \"#276419\"]], \"sequential\": [[0.0, \"#0d0887\"], [0.1111111111111111, \"#46039f\"], [0.2222222222222222, \"#7201a8\"], [0.3333333333333333, \"#9c179e\"], [0.4444444444444444, \"#bd3786\"], [0.5555555555555556, \"#d8576b\"], [0.6666666666666666, \"#ed7953\"], [0.7777777777777778, \"#fb9f3a\"], [0.8888888888888888, \"#fdca26\"], [1.0, \"#f0f921\"]], \"sequentialminus\": [[0.0, \"#0d0887\"], [0.1111111111111111, \"#46039f\"], [0.2222222222222222, \"#7201a8\"], [0.3333333333333333, \"#9c179e\"], [0.4444444444444444, \"#bd3786\"], [0.5555555555555556, \"#d8576b\"], [0.6666666666666666, \"#ed7953\"], [0.7777777777777778, \"#fb9f3a\"], [0.8888888888888888, \"#fdca26\"], [1.0, \"#f0f921\"]]}, \"colorway\": [\"#636efa\", \"#EF553B\", \"#00cc96\", \"#ab63fa\", \"#FFA15A\", \"#19d3f3\", \"#FF6692\", \"#B6E880\", \"#FF97FF\", \"#FECB52\"], \"font\": {\"color\": \"#2a3f5f\"}, \"geo\": {\"bgcolor\": \"white\", \"lakecolor\": \"white\", \"landcolor\": \"#E5ECF6\", \"showlakes\": true, \"showland\": true, \"subunitcolor\": \"white\"}, \"hoverlabel\": {\"align\": \"left\"}, \"hovermode\": \"closest\", \"mapbox\": {\"style\": \"light\"}, \"paper_bgcolor\": \"white\", \"plot_bgcolor\": \"#E5ECF6\", \"polar\": {\"angularaxis\": {\"gridcolor\": \"white\", \"linecolor\": \"white\", \"ticks\": \"\"}, \"bgcolor\": \"#E5ECF6\", \"radialaxis\": {\"gridcolor\": \"white\", \"linecolor\": \"white\", \"ticks\": \"\"}}, \"scene\": {\"xaxis\": {\"backgroundcolor\": \"#E5ECF6\", \"gridcolor\": \"white\", \"gridwidth\": 2, \"linecolor\": \"white\", \"showbackground\": true, \"ticks\": \"\", \"zerolinecolor\": \"white\"}, \"yaxis\": {\"backgroundcolor\": \"#E5ECF6\", \"gridcolor\": \"white\", \"gridwidth\": 2, \"linecolor\": \"white\", \"showbackground\": true, \"ticks\": \"\", \"zerolinecolor\": \"white\"}, \"zaxis\": {\"backgroundcolor\": \"#E5ECF6\", \"gridcolor\": \"white\", \"gridwidth\": 2, \"linecolor\": \"white\", \"showbackground\": true, \"ticks\": \"\", \"zerolinecolor\": \"white\"}}, \"shapedefaults\": {\"line\": {\"color\": \"#2a3f5f\"}}, \"ternary\": {\"aaxis\": {\"gridcolor\": \"white\", \"linecolor\": \"white\", \"ticks\": \"\"}, \"baxis\": {\"gridcolor\": \"white\", \"linecolor\": \"white\", \"ticks\": \"\"}, \"bgcolor\": \"#E5ECF6\", \"caxis\": {\"gridcolor\": \"white\", \"linecolor\": \"white\", \"ticks\": \"\"}}, \"title\": {\"x\": 0.05}, \"xaxis\": {\"automargin\": true, \"gridcolor\": \"white\", \"linecolor\": \"white\", \"ticks\": \"\", \"title\": {\"standoff\": 15}, \"zerolinecolor\": \"white\", \"zerolinewidth\": 2}, \"yaxis\": {\"automargin\": true, \"gridcolor\": \"white\", \"linecolor\": \"white\", \"ticks\": \"\", \"title\": {\"standoff\": 15}, \"zerolinecolor\": \"white\", \"zerolinewidth\": 2}}}, \"title\": {\"text\": \"Az el\\u0151z\\u0151 h\\u00e9t napi \\u00e1tlagos l\\u00e1togat\\u00f3sz\\u00e1ma\", \"x\": 0.45, \"xanchor\": \"center\", \"y\": 0.88}, \"xaxis\": {\"title\": {\"text\": \"\\u00c1tlagos l\\u00e1togat\\u00f3sz\\u00e1m\"}}, \"yaxis\": {\"title\": {\"text\": \"V\\u00e9rmez\\u00f5\"}}},\n",
       "                        {\"responsive\": true}\n",
       "                    ).then(function(){\n",
       "                            \n",
       "var gd = document.getElementById('5ed9a893-86d9-4e7a-8012-87a7d4709398');\n",
       "var x = new MutationObserver(function (mutations, observer) {{\n",
       "        var display = window.getComputedStyle(gd).display;\n",
       "        if (!display || display === 'none') {{\n",
       "            console.log([gd, 'removed!']);\n",
       "            Plotly.purge(gd);\n",
       "            observer.disconnect();\n",
       "        }}\n",
       "}});\n",
       "\n",
       "// Listen for the removal of the full notebook cells\n",
       "var notebookContainer = gd.closest('#notebook-container');\n",
       "if (notebookContainer) {{\n",
       "    x.observe(notebookContainer, {childList: true});\n",
       "}}\n",
       "\n",
       "// Listen for the clearing of the current output cell\n",
       "var outputEl = gd.closest('.output');\n",
       "if (outputEl) {{\n",
       "    x.observe(outputEl, {childList: true});\n",
       "}}\n",
       "\n",
       "                        })\n",
       "                };\n",
       "                });\n",
       "            </script>\n",
       "        </div>"
      ]
     },
     "metadata": {},
     "output_type": "display_data"
    }
   ],
   "source": [
    "figure2 = go.Figure(\n",
    "    data=[\n",
    "        go.Scatter(\n",
    "            name=\"Átlagos heti látogatószám\",\n",
    "            x=mean_visitors[\"Vérmezõ\"].index,\n",
    "            y=mean_visitors[\"Vérmezõ\"],\n",
    "            marker_color='darkblue'\n",
    "        ),\n",
    "    ]\n",
    ")\n",
    "figure2.update_layout(\n",
    "    title={'text':\"Az előző hét napi átlagos látogatószáma\",'y':0.88,\n",
    "        'x':0.45,\n",
    "           'xanchor': 'center'},\n",
    "    xaxis_title=\"Átlagos látogatószám\",\n",
    "    yaxis_title=\"Vérmezõ\",\n",
    "    font=dict(\n",
    "        #family=\"Courier New, monospace\",\n",
    "        size=12,\n",
    "        #color=\"#7f7f7f\"\n",
    "    ),\n",
    "    plot_bgcolor='rgba(0,0,0,0)',\n",
    "    legend=dict(\n",
    "        x=0,\n",
    "        y=1,)\n",
    ")\n",
    "figure2"
   ]
  },
  {
   "cell_type": "code",
   "execution_count": 91,
   "metadata": {},
   "outputs": [
    {
     "data": {
      "text/html": [
       "<div>\n",
       "<style scoped>\n",
       "    .dataframe tbody tr th:only-of-type {\n",
       "        vertical-align: middle;\n",
       "    }\n",
       "\n",
       "    .dataframe tbody tr th {\n",
       "        vertical-align: top;\n",
       "    }\n",
       "\n",
       "    .dataframe thead th {\n",
       "        text-align: right;\n",
       "    }\n",
       "</style>\n",
       "<table border=\"1\" class=\"dataframe\">\n",
       "  <thead>\n",
       "    <tr style=\"text-align: right;\">\n",
       "      <th></th>\n",
       "      <th>Terulet_y</th>\n",
       "      <th>0-1</th>\n",
       "      <th>1-2</th>\n",
       "      <th>2-3</th>\n",
       "      <th>3-4</th>\n",
       "      <th>4-5</th>\n",
       "      <th>5-6</th>\n",
       "      <th>6-7</th>\n",
       "      <th>7-8</th>\n",
       "      <th>8-9</th>\n",
       "      <th>...</th>\n",
       "      <th>15-16</th>\n",
       "      <th>16-17</th>\n",
       "      <th>17-18</th>\n",
       "      <th>18-19</th>\n",
       "      <th>19-20</th>\n",
       "      <th>20-21</th>\n",
       "      <th>21-22</th>\n",
       "      <th>22-23</th>\n",
       "      <th>23-24</th>\n",
       "      <th>mean_visitors</th>\n",
       "    </tr>\n",
       "  </thead>\n",
       "  <tbody>\n",
       "    <tr>\n",
       "      <th>0</th>\n",
       "      <td>109856</td>\n",
       "      <td>5912.0</td>\n",
       "      <td>8598.0</td>\n",
       "      <td>7386.0</td>\n",
       "      <td>8623.0</td>\n",
       "      <td>9796.0</td>\n",
       "      <td>5217.0</td>\n",
       "      <td>7204.0</td>\n",
       "      <td>3553.0</td>\n",
       "      <td>7804.0</td>\n",
       "      <td>...</td>\n",
       "      <td>432.0</td>\n",
       "      <td>1560.0</td>\n",
       "      <td>6593.0</td>\n",
       "      <td>2433.0</td>\n",
       "      <td>7504.0</td>\n",
       "      <td>6917.0</td>\n",
       "      <td>8506.0</td>\n",
       "      <td>6802.0</td>\n",
       "      <td>5575.0</td>\n",
       "      <td>10488.0</td>\n",
       "    </tr>\n",
       "    <tr>\n",
       "      <th>1</th>\n",
       "      <td>96587</td>\n",
       "      <td>9702.0</td>\n",
       "      <td>3602.0</td>\n",
       "      <td>8972.0</td>\n",
       "      <td>7178.0</td>\n",
       "      <td>9189.0</td>\n",
       "      <td>12214.0</td>\n",
       "      <td>4613.0</td>\n",
       "      <td>3906.0</td>\n",
       "      <td>7287.0</td>\n",
       "      <td>...</td>\n",
       "      <td>6264.0</td>\n",
       "      <td>6212.0</td>\n",
       "      <td>10643.0</td>\n",
       "      <td>7277.0</td>\n",
       "      <td>7439.0</td>\n",
       "      <td>7474.0</td>\n",
       "      <td>6339.0</td>\n",
       "      <td>7069.0</td>\n",
       "      <td>5945.0</td>\n",
       "      <td>10745.0</td>\n",
       "    </tr>\n",
       "    <tr>\n",
       "      <th>2</th>\n",
       "      <td>26594</td>\n",
       "      <td>7552.0</td>\n",
       "      <td>6584.0</td>\n",
       "      <td>5519.0</td>\n",
       "      <td>4301.0</td>\n",
       "      <td>7571.0</td>\n",
       "      <td>5541.0</td>\n",
       "      <td>3090.0</td>\n",
       "      <td>3595.0</td>\n",
       "      <td>922.0</td>\n",
       "      <td>...</td>\n",
       "      <td>4217.0</td>\n",
       "      <td>9263.0</td>\n",
       "      <td>9612.0</td>\n",
       "      <td>7714.0</td>\n",
       "      <td>4495.0</td>\n",
       "      <td>7467.0</td>\n",
       "      <td>3459.0</td>\n",
       "      <td>9803.0</td>\n",
       "      <td>5211.0</td>\n",
       "      <td>6992.0</td>\n",
       "    </tr>\n",
       "    <tr>\n",
       "      <th>3</th>\n",
       "      <td>29108</td>\n",
       "      <td>8448.0</td>\n",
       "      <td>4802.0</td>\n",
       "      <td>5472.0</td>\n",
       "      <td>5184.0</td>\n",
       "      <td>6584.0</td>\n",
       "      <td>5598.0</td>\n",
       "      <td>4558.0</td>\n",
       "      <td>10367.0</td>\n",
       "      <td>9474.0</td>\n",
       "      <td>...</td>\n",
       "      <td>3256.0</td>\n",
       "      <td>6869.0</td>\n",
       "      <td>6300.0</td>\n",
       "      <td>6443.0</td>\n",
       "      <td>6324.0</td>\n",
       "      <td>9338.0</td>\n",
       "      <td>7532.0</td>\n",
       "      <td>5272.0</td>\n",
       "      <td>11012.0</td>\n",
       "      <td>7874.0</td>\n",
       "    </tr>\n",
       "    <tr>\n",
       "      <th>4</th>\n",
       "      <td>16011</td>\n",
       "      <td>3668.0</td>\n",
       "      <td>9249.0</td>\n",
       "      <td>7624.0</td>\n",
       "      <td>767.0</td>\n",
       "      <td>8783.0</td>\n",
       "      <td>5729.0</td>\n",
       "      <td>3346.0</td>\n",
       "      <td>5584.0</td>\n",
       "      <td>8510.0</td>\n",
       "      <td>...</td>\n",
       "      <td>10899.0</td>\n",
       "      <td>4705.0</td>\n",
       "      <td>8388.0</td>\n",
       "      <td>9600.0</td>\n",
       "      <td>4330.0</td>\n",
       "      <td>7162.0</td>\n",
       "      <td>8599.0</td>\n",
       "      <td>4989.0</td>\n",
       "      <td>7831.0</td>\n",
       "      <td>7144.0</td>\n",
       "    </tr>\n",
       "    <tr>\n",
       "      <th>...</th>\n",
       "      <td>...</td>\n",
       "      <td>...</td>\n",
       "      <td>...</td>\n",
       "      <td>...</td>\n",
       "      <td>...</td>\n",
       "      <td>...</td>\n",
       "      <td>...</td>\n",
       "      <td>...</td>\n",
       "      <td>...</td>\n",
       "      <td>...</td>\n",
       "      <td>...</td>\n",
       "      <td>...</td>\n",
       "      <td>...</td>\n",
       "      <td>...</td>\n",
       "      <td>...</td>\n",
       "      <td>...</td>\n",
       "      <td>...</td>\n",
       "      <td>...</td>\n",
       "      <td>...</td>\n",
       "      <td>...</td>\n",
       "      <td>...</td>\n",
       "    </tr>\n",
       "    <tr>\n",
       "      <th>631</th>\n",
       "      <td>1601</td>\n",
       "      <td>9657.0</td>\n",
       "      <td>7441.0</td>\n",
       "      <td>6588.0</td>\n",
       "      <td>7121.0</td>\n",
       "      <td>7143.0</td>\n",
       "      <td>7327.0</td>\n",
       "      <td>3275.0</td>\n",
       "      <td>7950.0</td>\n",
       "      <td>5457.0</td>\n",
       "      <td>...</td>\n",
       "      <td>4646.0</td>\n",
       "      <td>1540.0</td>\n",
       "      <td>2879.0</td>\n",
       "      <td>7158.0</td>\n",
       "      <td>3986.0</td>\n",
       "      <td>2313.0</td>\n",
       "      <td>6460.0</td>\n",
       "      <td>3686.0</td>\n",
       "      <td>6003.0</td>\n",
       "      <td>5885.0</td>\n",
       "    </tr>\n",
       "    <tr>\n",
       "      <th>632</th>\n",
       "      <td>495</td>\n",
       "      <td>7671.0</td>\n",
       "      <td>8712.0</td>\n",
       "      <td>5258.0</td>\n",
       "      <td>7540.0</td>\n",
       "      <td>8739.0</td>\n",
       "      <td>9338.0</td>\n",
       "      <td>7765.0</td>\n",
       "      <td>6081.0</td>\n",
       "      <td>7185.0</td>\n",
       "      <td>...</td>\n",
       "      <td>4777.0</td>\n",
       "      <td>3253.0</td>\n",
       "      <td>6586.0</td>\n",
       "      <td>4219.0</td>\n",
       "      <td>7034.0</td>\n",
       "      <td>4713.0</td>\n",
       "      <td>8729.0</td>\n",
       "      <td>8865.0</td>\n",
       "      <td>9110.0</td>\n",
       "      <td>6347.0</td>\n",
       "    </tr>\n",
       "    <tr>\n",
       "      <th>633</th>\n",
       "      <td>8003</td>\n",
       "      <td>8986.0</td>\n",
       "      <td>6265.0</td>\n",
       "      <td>3007.0</td>\n",
       "      <td>7864.0</td>\n",
       "      <td>5490.0</td>\n",
       "      <td>4191.0</td>\n",
       "      <td>8067.0</td>\n",
       "      <td>8837.0</td>\n",
       "      <td>7918.0</td>\n",
       "      <td>...</td>\n",
       "      <td>7342.0</td>\n",
       "      <td>6522.0</td>\n",
       "      <td>7562.0</td>\n",
       "      <td>5926.0</td>\n",
       "      <td>8154.0</td>\n",
       "      <td>8512.0</td>\n",
       "      <td>11188.0</td>\n",
       "      <td>6205.0</td>\n",
       "      <td>8912.0</td>\n",
       "      <td>7366.0</td>\n",
       "    </tr>\n",
       "    <tr>\n",
       "      <th>634</th>\n",
       "      <td>5200</td>\n",
       "      <td>6595.0</td>\n",
       "      <td>2498.0</td>\n",
       "      <td>8310.0</td>\n",
       "      <td>5282.0</td>\n",
       "      <td>11789.0</td>\n",
       "      <td>5072.0</td>\n",
       "      <td>3049.0</td>\n",
       "      <td>5766.0</td>\n",
       "      <td>6646.0</td>\n",
       "      <td>...</td>\n",
       "      <td>4369.0</td>\n",
       "      <td>2701.0</td>\n",
       "      <td>5635.0</td>\n",
       "      <td>8696.0</td>\n",
       "      <td>7979.0</td>\n",
       "      <td>8587.0</td>\n",
       "      <td>7468.0</td>\n",
       "      <td>7094.0</td>\n",
       "      <td>5124.0</td>\n",
       "      <td>6603.0</td>\n",
       "    </tr>\n",
       "    <tr>\n",
       "      <th>635</th>\n",
       "      <td>9223</td>\n",
       "      <td>3745.0</td>\n",
       "      <td>5861.0</td>\n",
       "      <td>6509.0</td>\n",
       "      <td>3016.0</td>\n",
       "      <td>4905.0</td>\n",
       "      <td>5313.0</td>\n",
       "      <td>11292.0</td>\n",
       "      <td>4405.0</td>\n",
       "      <td>4565.0</td>\n",
       "      <td>...</td>\n",
       "      <td>7091.0</td>\n",
       "      <td>5949.0</td>\n",
       "      <td>6312.0</td>\n",
       "      <td>7318.0</td>\n",
       "      <td>7084.0</td>\n",
       "      <td>7873.0</td>\n",
       "      <td>3851.0</td>\n",
       "      <td>3860.0</td>\n",
       "      <td>7492.0</td>\n",
       "      <td>5893.0</td>\n",
       "    </tr>\n",
       "  </tbody>\n",
       "</table>\n",
       "<p>636 rows × 26 columns</p>\n",
       "</div>"
      ],
      "text/plain": [
       "     Terulet_y     0-1     1-2     2-3     3-4      4-5      5-6      6-7  \\\n",
       "0       109856  5912.0  8598.0  7386.0  8623.0   9796.0   5217.0   7204.0   \n",
       "1        96587  9702.0  3602.0  8972.0  7178.0   9189.0  12214.0   4613.0   \n",
       "2        26594  7552.0  6584.0  5519.0  4301.0   7571.0   5541.0   3090.0   \n",
       "3        29108  8448.0  4802.0  5472.0  5184.0   6584.0   5598.0   4558.0   \n",
       "4        16011  3668.0  9249.0  7624.0   767.0   8783.0   5729.0   3346.0   \n",
       "..         ...     ...     ...     ...     ...      ...      ...      ...   \n",
       "631       1601  9657.0  7441.0  6588.0  7121.0   7143.0   7327.0   3275.0   \n",
       "632        495  7671.0  8712.0  5258.0  7540.0   8739.0   9338.0   7765.0   \n",
       "633       8003  8986.0  6265.0  3007.0  7864.0   5490.0   4191.0   8067.0   \n",
       "634       5200  6595.0  2498.0  8310.0  5282.0  11789.0   5072.0   3049.0   \n",
       "635       9223  3745.0  5861.0  6509.0  3016.0   4905.0   5313.0  11292.0   \n",
       "\n",
       "         7-8     8-9  ...    15-16   16-17    17-18   18-19   19-20   20-21  \\\n",
       "0     3553.0  7804.0  ...    432.0  1560.0   6593.0  2433.0  7504.0  6917.0   \n",
       "1     3906.0  7287.0  ...   6264.0  6212.0  10643.0  7277.0  7439.0  7474.0   \n",
       "2     3595.0   922.0  ...   4217.0  9263.0   9612.0  7714.0  4495.0  7467.0   \n",
       "3    10367.0  9474.0  ...   3256.0  6869.0   6300.0  6443.0  6324.0  9338.0   \n",
       "4     5584.0  8510.0  ...  10899.0  4705.0   8388.0  9600.0  4330.0  7162.0   \n",
       "..       ...     ...  ...      ...     ...      ...     ...     ...     ...   \n",
       "631   7950.0  5457.0  ...   4646.0  1540.0   2879.0  7158.0  3986.0  2313.0   \n",
       "632   6081.0  7185.0  ...   4777.0  3253.0   6586.0  4219.0  7034.0  4713.0   \n",
       "633   8837.0  7918.0  ...   7342.0  6522.0   7562.0  5926.0  8154.0  8512.0   \n",
       "634   5766.0  6646.0  ...   4369.0  2701.0   5635.0  8696.0  7979.0  8587.0   \n",
       "635   4405.0  4565.0  ...   7091.0  5949.0   6312.0  7318.0  7084.0  7873.0   \n",
       "\n",
       "       21-22   22-23    23-24  mean_visitors  \n",
       "0     8506.0  6802.0   5575.0        10488.0  \n",
       "1     6339.0  7069.0   5945.0        10745.0  \n",
       "2     3459.0  9803.0   5211.0         6992.0  \n",
       "3     7532.0  5272.0  11012.0         7874.0  \n",
       "4     8599.0  4989.0   7831.0         7144.0  \n",
       "..       ...     ...      ...            ...  \n",
       "631   6460.0  3686.0   6003.0         5885.0  \n",
       "632   8729.0  8865.0   9110.0         6347.0  \n",
       "633  11188.0  6205.0   8912.0         7366.0  \n",
       "634   7468.0  7094.0   5124.0         6603.0  \n",
       "635   3851.0  3860.0   7492.0         5893.0  \n",
       "\n",
       "[636 rows x 26 columns]"
      ]
     },
     "execution_count": 91,
     "metadata": {},
     "output_type": "execute_result"
    }
   ],
   "source": [
    "gdf_combined_aggregated.iloc[:, 10:]"
   ]
  },
  {
   "cell_type": "code",
   "execution_count": 6,
   "metadata": {},
   "outputs": [
    {
     "data": {
      "text/html": [
       "<div>\n",
       "<style scoped>\n",
       "    .dataframe tbody tr th:only-of-type {\n",
       "        vertical-align: middle;\n",
       "    }\n",
       "\n",
       "    .dataframe tbody tr th {\n",
       "        vertical-align: top;\n",
       "    }\n",
       "\n",
       "    .dataframe thead th {\n",
       "        text-align: right;\n",
       "    }\n",
       "</style>\n",
       "<table border=\"1\" class=\"dataframe\">\n",
       "  <thead>\n",
       "    <tr style=\"text-align: right;\">\n",
       "      <th></th>\n",
       "      <th>mean_visitors1</th>\n",
       "    </tr>\n",
       "    <tr>\n",
       "      <th>Nev</th>\n",
       "      <th></th>\n",
       "    </tr>\n",
       "  </thead>\n",
       "  <tbody>\n",
       "    <tr>\n",
       "      <th>Vérmezõ</th>\n",
       "      <td>4116.0</td>\n",
       "    </tr>\n",
       "    <tr>\n",
       "      <th>Budavári kertek - Keleti kert - Ellyps sétány</th>\n",
       "      <td>4008.0</td>\n",
       "    </tr>\n",
       "    <tr>\n",
       "      <th>Halászbástya, Szentháromság tér</th>\n",
       "      <td>4471.0</td>\n",
       "    </tr>\n",
       "    <tr>\n",
       "      <th>Szarvas tér, Dózsa György tér</th>\n",
       "      <td>5054.0</td>\n",
       "    </tr>\n",
       "    <tr>\n",
       "      <th>Palota úti park</th>\n",
       "      <td>5659.0</td>\n",
       "    </tr>\n",
       "    <tr>\n",
       "      <th>...</th>\n",
       "      <td>...</td>\n",
       "    </tr>\n",
       "    <tr>\n",
       "      <th>Hermina úti erdõ</th>\n",
       "      <td>4278.0</td>\n",
       "    </tr>\n",
       "    <tr>\n",
       "      <th>Merzse</th>\n",
       "      <td>4948.0</td>\n",
       "    </tr>\n",
       "    <tr>\n",
       "      <th>Péter-hegy</th>\n",
       "      <td>6301.0</td>\n",
       "    </tr>\n",
       "    <tr>\n",
       "      <th>Pálos kolostor játszótér</th>\n",
       "      <td>4039.0</td>\n",
       "    </tr>\n",
       "    <tr>\n",
       "      <th>Mocsárosdûlõ</th>\n",
       "      <td>5159.0</td>\n",
       "    </tr>\n",
       "  </tbody>\n",
       "</table>\n",
       "<p>636 rows × 1 columns</p>\n",
       "</div>"
      ],
      "text/plain": [
       "                                               mean_visitors1\n",
       "Nev                                                          \n",
       "Vérmezõ                                                4116.0\n",
       "Budavári kertek - Keleti kert - Ellyps sétány          4008.0\n",
       "Halászbástya, Szentháromság tér                        4471.0\n",
       "Szarvas tér, Dózsa György tér                          5054.0\n",
       "Palota úti park                                        5659.0\n",
       "...                                                       ...\n",
       "Hermina úti erdõ                                       4278.0\n",
       "Merzse                                                 4948.0\n",
       "Péter-hegy                                             6301.0\n",
       "Pálos kolostor játszótér                               4039.0\n",
       "Mocsárosdûlõ                                           5159.0\n",
       "\n",
       "[636 rows x 1 columns]"
      ]
     },
     "execution_count": 6,
     "metadata": {},
     "output_type": "execute_result"
    }
   ],
   "source": [
    "read_new = pd.read_excel(\n",
    "    r\"C:\\Users\\T440s\\Google Drive\\rajk\\rajkos_kurzusok\\prog2\\PROJECT\\data\\test\\test{}.xlsx\".format(\n",
    "        1\n",
    "    )\n",
    ")\n",
    "read_new['mean_visitors{}'.format(1)] = read_new.iloc[:,4:].mean(axis=1).round(0)\n",
    "read_new = read_new.set_index('Nev').iloc[:,-1:]\n",
    "read_new"
   ]
  },
  {
   "cell_type": "code",
   "execution_count": 7,
   "metadata": {},
   "outputs": [
    {
     "data": {
      "text/html": [
       "<div>\n",
       "<style scoped>\n",
       "    .dataframe tbody tr th:only-of-type {\n",
       "        vertical-align: middle;\n",
       "    }\n",
       "\n",
       "    .dataframe tbody tr th {\n",
       "        vertical-align: top;\n",
       "    }\n",
       "\n",
       "    .dataframe thead th {\n",
       "        text-align: right;\n",
       "    }\n",
       "</style>\n",
       "<table border=\"1\" class=\"dataframe\">\n",
       "  <thead>\n",
       "    <tr style=\"text-align: right;\">\n",
       "      <th></th>\n",
       "      <th>mean_visitors2</th>\n",
       "    </tr>\n",
       "    <tr>\n",
       "      <th>Nev</th>\n",
       "      <th></th>\n",
       "    </tr>\n",
       "  </thead>\n",
       "  <tbody>\n",
       "    <tr>\n",
       "      <th>Vérmezõ</th>\n",
       "      <td>4644.0</td>\n",
       "    </tr>\n",
       "    <tr>\n",
       "      <th>Budavári kertek - Keleti kert - Ellyps sétány</th>\n",
       "      <td>5689.0</td>\n",
       "    </tr>\n",
       "    <tr>\n",
       "      <th>Halászbástya, Szentháromság tér</th>\n",
       "      <td>5325.0</td>\n",
       "    </tr>\n",
       "    <tr>\n",
       "      <th>Szarvas tér, Dózsa György tér</th>\n",
       "      <td>5237.0</td>\n",
       "    </tr>\n",
       "    <tr>\n",
       "      <th>Palota úti park</th>\n",
       "      <td>3813.0</td>\n",
       "    </tr>\n",
       "    <tr>\n",
       "      <th>...</th>\n",
       "      <td>...</td>\n",
       "    </tr>\n",
       "    <tr>\n",
       "      <th>Hermina úti erdõ</th>\n",
       "      <td>4592.0</td>\n",
       "    </tr>\n",
       "    <tr>\n",
       "      <th>Merzse</th>\n",
       "      <td>5285.0</td>\n",
       "    </tr>\n",
       "    <tr>\n",
       "      <th>Péter-hegy</th>\n",
       "      <td>5314.0</td>\n",
       "    </tr>\n",
       "    <tr>\n",
       "      <th>Pálos kolostor játszótér</th>\n",
       "      <td>5386.0</td>\n",
       "    </tr>\n",
       "    <tr>\n",
       "      <th>Mocsárosdûlõ</th>\n",
       "      <td>4804.0</td>\n",
       "    </tr>\n",
       "  </tbody>\n",
       "</table>\n",
       "<p>636 rows × 1 columns</p>\n",
       "</div>"
      ],
      "text/plain": [
       "                                               mean_visitors2\n",
       "Nev                                                          \n",
       "Vérmezõ                                                4644.0\n",
       "Budavári kertek - Keleti kert - Ellyps sétány          5689.0\n",
       "Halászbástya, Szentháromság tér                        5325.0\n",
       "Szarvas tér, Dózsa György tér                          5237.0\n",
       "Palota úti park                                        3813.0\n",
       "...                                                       ...\n",
       "Hermina úti erdõ                                       4592.0\n",
       "Merzse                                                 5285.0\n",
       "Péter-hegy                                             5314.0\n",
       "Pálos kolostor játszótér                               5386.0\n",
       "Mocsárosdûlõ                                           4804.0\n",
       "\n",
       "[636 rows x 1 columns]"
      ]
     },
     "execution_count": 7,
     "metadata": {},
     "output_type": "execute_result"
    }
   ],
   "source": [
    "read_new2 = pd.read_excel(\n",
    "    r\"C:\\Users\\T440s\\Google Drive\\rajk\\rajkos_kurzusok\\prog2\\PROJECT\\data\\test\\test{}.xlsx\".format(\n",
    "        2\n",
    "    )\n",
    ")\n",
    "read_new2['mean_visitors{}'.format(2)] = read_new2.iloc[:,4:].mean(axis=1).round(0)\n",
    "read_new2 = read_new2.set_index('Nev').iloc[:,-1:]\n",
    "read_new2"
   ]
  },
  {
   "cell_type": "code",
   "execution_count": 12,
   "metadata": {},
   "outputs": [
    {
     "data": {
      "text/html": [
       "<div>\n",
       "<style scoped>\n",
       "    .dataframe tbody tr th:only-of-type {\n",
       "        vertical-align: middle;\n",
       "    }\n",
       "\n",
       "    .dataframe tbody tr th {\n",
       "        vertical-align: top;\n",
       "    }\n",
       "\n",
       "    .dataframe thead th {\n",
       "        text-align: right;\n",
       "    }\n",
       "</style>\n",
       "<table border=\"1\" class=\"dataframe\">\n",
       "  <thead>\n",
       "    <tr style=\"text-align: right;\">\n",
       "      <th></th>\n",
       "      <th>mean_visitors1</th>\n",
       "    </tr>\n",
       "    <tr>\n",
       "      <th>Nev</th>\n",
       "      <th></th>\n",
       "    </tr>\n",
       "  </thead>\n",
       "  <tbody>\n",
       "    <tr>\n",
       "      <th>525. tér</th>\n",
       "      <td>5003.0</td>\n",
       "    </tr>\n",
       "  </tbody>\n",
       "</table>\n",
       "</div>"
      ],
      "text/plain": [
       "          mean_visitors1\n",
       "Nev                     \n",
       "525. tér          5003.0"
      ]
     },
     "execution_count": 12,
     "metadata": {},
     "output_type": "execute_result"
    }
   ],
   "source": [
    "read_new[read_new.index == '525. tér']"
   ]
  },
  {
   "cell_type": "code",
   "execution_count": 13,
   "metadata": {},
   "outputs": [
    {
     "data": {
      "text/html": [
       "<div>\n",
       "<style scoped>\n",
       "    .dataframe tbody tr th:only-of-type {\n",
       "        vertical-align: middle;\n",
       "    }\n",
       "\n",
       "    .dataframe tbody tr th {\n",
       "        vertical-align: top;\n",
       "    }\n",
       "\n",
       "    .dataframe thead th {\n",
       "        text-align: right;\n",
       "    }\n",
       "</style>\n",
       "<table border=\"1\" class=\"dataframe\">\n",
       "  <thead>\n",
       "    <tr style=\"text-align: right;\">\n",
       "      <th></th>\n",
       "      <th>mean_visitors1</th>\n",
       "      <th>mean_visitors2</th>\n",
       "    </tr>\n",
       "    <tr>\n",
       "      <th>Nev</th>\n",
       "      <th></th>\n",
       "      <th></th>\n",
       "    </tr>\n",
       "  </thead>\n",
       "  <tbody>\n",
       "    <tr>\n",
       "      <th>525. tér</th>\n",
       "      <td>5003.0</td>\n",
       "      <td>5264.0</td>\n",
       "    </tr>\n",
       "    <tr>\n",
       "      <th>Abádi tér</th>\n",
       "      <td>4547.0</td>\n",
       "      <td>3907.0</td>\n",
       "    </tr>\n",
       "    <tr>\n",
       "      <th>Ady Endre tér</th>\n",
       "      <td>4830.0</td>\n",
       "      <td>4953.0</td>\n",
       "    </tr>\n",
       "    <tr>\n",
       "      <th>Ady liget</th>\n",
       "      <td>5763.0</td>\n",
       "      <td>4944.0</td>\n",
       "    </tr>\n",
       "    <tr>\n",
       "      <th>Ajtony utcai park</th>\n",
       "      <td>4203.0</td>\n",
       "      <td>5803.0</td>\n",
       "    </tr>\n",
       "    <tr>\n",
       "      <th>...</th>\n",
       "      <td>...</td>\n",
       "      <td>...</td>\n",
       "    </tr>\n",
       "    <tr>\n",
       "      <th>Újbuda központ</th>\n",
       "      <td>4414.0</td>\n",
       "      <td>3909.0</td>\n",
       "    </tr>\n",
       "    <tr>\n",
       "      <th>Újpalotai Fõ tér</th>\n",
       "      <td>5005.0</td>\n",
       "      <td>4426.0</td>\n",
       "    </tr>\n",
       "    <tr>\n",
       "      <th>Újpest Városkapu</th>\n",
       "      <td>4606.0</td>\n",
       "      <td>4144.0</td>\n",
       "    </tr>\n",
       "    <tr>\n",
       "      <th>Újpest Városközpont</th>\n",
       "      <td>5588.0</td>\n",
       "      <td>4883.0</td>\n",
       "    </tr>\n",
       "    <tr>\n",
       "      <th>Újpesti víztorony melletti zöldterület</th>\n",
       "      <td>4682.0</td>\n",
       "      <td>5298.0</td>\n",
       "    </tr>\n",
       "  </tbody>\n",
       "</table>\n",
       "<p>638 rows × 2 columns</p>\n",
       "</div>"
      ],
      "text/plain": [
       "                                        mean_visitors1  mean_visitors2\n",
       "Nev                                                                   \n",
       "525. tér                                        5003.0          5264.0\n",
       "Abádi tér                                       4547.0          3907.0\n",
       "Ady Endre tér                                   4830.0          4953.0\n",
       "Ady liget                                       5763.0          4944.0\n",
       "Ajtony utcai park                               4203.0          5803.0\n",
       "...                                                ...             ...\n",
       "Újbuda központ                                  4414.0          3909.0\n",
       "Újpalotai Fõ tér                                5005.0          4426.0\n",
       "Újpest Városkapu                                4606.0          4144.0\n",
       "Újpest Városközpont                             5588.0          4883.0\n",
       "Újpesti víztorony melletti zöldterület          4682.0          5298.0\n",
       "\n",
       "[638 rows x 2 columns]"
      ]
     },
     "execution_count": 13,
     "metadata": {},
     "output_type": "execute_result"
    }
   ],
   "source": [
    "read_new.merge(read_new2, right_index=True, left_index=True)"
   ]
  },
  {
   "cell_type": "code",
   "execution_count": null,
   "metadata": {},
   "outputs": [],
   "source": []
  }
 ],
 "metadata": {
  "kernelspec": {
   "display_name": "Python 3",
   "language": "python",
   "name": "python3"
  },
  "language_info": {
   "codemirror_mode": {
    "name": "ipython",
    "version": 3
   },
   "file_extension": ".py",
   "mimetype": "text/x-python",
   "name": "python",
   "nbconvert_exporter": "python",
   "pygments_lexer": "ipython3",
   "version": "3.7.7"
  },
  "toc": {
   "base_numbering": 1,
   "nav_menu": {},
   "number_sections": true,
   "sideBar": true,
   "skip_h1_title": false,
   "title_cell": "Table of Contents",
   "title_sidebar": "Contents",
   "toc_cell": false,
   "toc_position": {},
   "toc_section_display": true,
   "toc_window_display": false
  }
 },
 "nbformat": 4,
 "nbformat_minor": 4
}
